{
 "cells": [
  {
   "cell_type": "code",
   "execution_count": 1,
   "id": "eccd6d8b-f694-4702-8470-2b5b76b3c6fc",
   "metadata": {},
   "outputs": [],
   "source": [
    "%run ../../import_src.py\n",
    "\n",
    "import lymedata\n",
    "from lymedata import *\n",
    "import constants\n",
    "from constants import *\n",
    "\n",
    "from sklearn.decomposition import PCA\n",
    "from sklearn.preprocessing import StandardScaler\n",
    "from sklearn.multiclass import OneVsRestClassifier\n",
    "from sklearn.model_selection import train_test_split\n",
    "\n",
    "from sklearn.svm import SVC\n",
    "from sklearn.metrics import classification_report"
   ]
  },
  {
   "cell_type": "code",
   "execution_count": 3,
   "id": "f477eea7-4ff9-4fee-bcb0-5cb04790fb61",
   "metadata": {},
   "outputs": [
    {
     "name": "stdout",
     "output_type": "stream",
     "text": [
      "Definition: OWD\n"
     ]
    },
    {
     "name": "stderr",
     "output_type": "stream",
     "text": [
      "/home/reu24lyme/alex/code_lib/src/lymedata.py:74: DtypeWarning: Columns (224,249,259,269,274,294,299,304,309,339,344,365,369,373,377,395,399,403,411,415,419,423,435) have mixed types. Specify dtype option on import or set low_memory=False.\n",
      "  df = pd.read_csv(csv_file)\n"
     ]
    },
    {
     "name": "stdout",
     "output_type": "stream",
     "text": [
      "OWD\n",
      "Both Neuro and Mus: 1562\n",
      "Only Neuro: 632\n",
      "Only Mus: 963\n",
      "Neither Neuro nor Mus: 806\n",
      "Dropping 99\n",
      "(3598, 16)\n",
      "Index(['Fatigue', 'Headache', 'Joint Pain', 'Muscle aches', 'Neuropathy',\n",
      "       'Twitching', 'Memory Loss', 'Cognitive Impairment', 'Sleep Impairment',\n",
      "       'Psychiatric', 'Heart related', 'Gastrointestinal', 'neuro', 'musculo',\n",
      "       'both', 'neither'],\n",
      "      dtype='object')\n",
      "Original feature space: (3598, 12)\n",
      "Reduced feature space: (3598, 2)\n",
      "OWD Train: 0.6063238359972203\n",
      "              precision    recall  f1-score   support\n",
      "\n",
      "           0       0.55      0.40      0.46       108\n",
      "           1       0.75      0.51      0.60       205\n",
      "           2       0.84      0.85      0.84       301\n",
      "           3       0.82      0.17      0.28       106\n",
      "\n",
      "   micro avg       0.77      0.58      0.66       720\n",
      "   macro avg       0.74      0.48      0.55       720\n",
      "weighted avg       0.77      0.58      0.63       720\n",
      " samples avg       0.58      0.58      0.58       720\n",
      "\n"
     ]
    },
    {
     "name": "stderr",
     "output_type": "stream",
     "text": [
      "/home/reu24lyme/miniconda3/lib/python3.12/site-packages/sklearn/metrics/_classification.py:1531: UndefinedMetricWarning: Precision is ill-defined and being set to 0.0 in samples with no predicted labels. Use `zero_division` parameter to control this behavior.\n",
      "  _warn_prf(average, modifier, f\"{metric.capitalize()} is\", len(result))\n"
     ]
    },
    {
     "name": "stdout",
     "output_type": "stream",
     "text": [
      "OWD Test: 0.5833333333333334\n",
      "Definition: CNS1\n"
     ]
    },
    {
     "name": "stderr",
     "output_type": "stream",
     "text": [
      "/home/reu24lyme/alex/code_lib/src/lymedata.py:74: DtypeWarning: Columns (224,249,259,269,274,294,299,304,309,339,344,365,369,373,377,395,399,403,411,415,419,423,435) have mixed types. Specify dtype option on import or set low_memory=False.\n",
      "  df = pd.read_csv(csv_file)\n"
     ]
    },
    {
     "name": "stdout",
     "output_type": "stream",
     "text": [
      "Both Neuro and Mus: 2259\n",
      "Only Neuro: 310\n",
      "Only Mus: 762\n",
      "Neither Neuro nor Mus: 632\n",
      "Dropping 99\n",
      "(3598, 16)\n",
      "Index(['Fatigue', 'Headache', 'Joint Pain', 'Muscle aches', 'Neuropathy',\n",
      "       'Twitching', 'Memory Loss', 'Cognitive Impairment', 'Sleep Impairment',\n",
      "       'Psychiatric', 'Heart related', 'Gastrointestinal', 'neuro', 'musculo',\n",
      "       'both', 'neither'],\n",
      "      dtype='object')\n",
      "Original feature space: (3598, 12)\n",
      "Reduced feature space: (3598, 2)\n",
      "CNS1 Train: 0.7734537873523281\n",
      "              precision    recall  f1-score   support\n",
      "\n",
      "           0       0.71      0.56      0.62        54\n",
      "           1       0.78      0.69      0.74       160\n",
      "           2       0.90      0.89      0.89       448\n",
      "           3       0.80      0.48      0.60        58\n",
      "\n",
      "   micro avg       0.86      0.79      0.82       720\n",
      "   macro avg       0.80      0.65      0.71       720\n",
      "weighted avg       0.85      0.79      0.81       720\n",
      " samples avg       0.78      0.79      0.78       720\n",
      "\n",
      "CNS1 Test: 0.7819444444444444\n",
      "Definition: CNS2\n"
     ]
    },
    {
     "name": "stderr",
     "output_type": "stream",
     "text": [
      "/home/reu24lyme/miniconda3/lib/python3.12/site-packages/sklearn/metrics/_classification.py:1531: UndefinedMetricWarning: Precision is ill-defined and being set to 0.0 in samples with no predicted labels. Use `zero_division` parameter to control this behavior.\n",
      "  _warn_prf(average, modifier, f\"{metric.capitalize()} is\", len(result))\n",
      "/home/reu24lyme/alex/code_lib/src/lymedata.py:74: DtypeWarning: Columns (224,249,259,269,274,294,299,304,309,339,344,365,369,373,377,395,399,403,411,415,419,423,435) have mixed types. Specify dtype option on import or set low_memory=False.\n",
      "  df = pd.read_csv(csv_file)\n"
     ]
    },
    {
     "name": "stdout",
     "output_type": "stream",
     "text": [
      "Both Neuro and Mus: 1862\n",
      "Only Neuro: 707\n",
      "Only Mus: 762\n",
      "Neither Neuro nor Mus: 632\n",
      "Dropping 99\n",
      "(3598, 16)\n",
      "Index(['Fatigue', 'Headache', 'Joint Pain', 'Muscle aches', 'Neuropathy',\n",
      "       'Twitching', 'Memory Loss', 'Cognitive Impairment', 'Sleep Impairment',\n",
      "       'Psychiatric', 'Heart related', 'Gastrointestinal', 'neuro', 'musculo',\n",
      "       'both', 'neither'],\n",
      "      dtype='object')\n",
      "Original feature space: (3598, 12)\n",
      "Reduced feature space: (3598, 2)\n",
      "CNS2 Train: 0.7453092425295343\n",
      "              precision    recall  f1-score   support\n",
      "\n",
      "           0       0.70      0.55      0.62       137\n",
      "           1       0.78      0.69      0.74       160\n",
      "           2       0.85      0.84      0.85       365\n",
      "           3       0.80      0.48      0.60        58\n",
      "\n",
      "   micro avg       0.81      0.72      0.76       720\n",
      "   macro avg       0.78      0.64      0.70       720\n",
      "weighted avg       0.80      0.72      0.76       720\n",
      " samples avg       0.72      0.72      0.72       720\n",
      "\n",
      "CNS2 Test: 0.725\n",
      "Definition: CNS3\n"
     ]
    },
    {
     "name": "stderr",
     "output_type": "stream",
     "text": [
      "/home/reu24lyme/miniconda3/lib/python3.12/site-packages/sklearn/metrics/_classification.py:1531: UndefinedMetricWarning: Precision is ill-defined and being set to 0.0 in samples with no predicted labels. Use `zero_division` parameter to control this behavior.\n",
      "  _warn_prf(average, modifier, f\"{metric.capitalize()} is\", len(result))\n",
      "/home/reu24lyme/alex/code_lib/src/lymedata.py:74: DtypeWarning: Columns (224,249,259,269,274,294,299,304,309,339,344,365,369,373,377,395,399,403,411,415,419,423,435) have mixed types. Specify dtype option on import or set low_memory=False.\n",
      "  df = pd.read_csv(csv_file)\n"
     ]
    },
    {
     "name": "stdout",
     "output_type": "stream",
     "text": [
      "Both Neuro and Mus: 1862\n",
      "Only Neuro: 707\n",
      "Only Mus: 528\n",
      "Neither Neuro nor Mus: 866\n",
      "Dropping 99\n",
      "(3598, 16)\n",
      "Index(['Fatigue', 'Headache', 'Joint Pain', 'Muscle aches', 'Neuropathy',\n",
      "       'Twitching', 'Memory Loss', 'Cognitive Impairment', 'Sleep Impairment',\n",
      "       'Psychiatric', 'Heart related', 'Gastrointestinal', 'neuro', 'musculo',\n",
      "       'both', 'neither'],\n",
      "      dtype='object')\n",
      "Original feature space: (3598, 12)\n",
      "Reduced feature space: (3598, 2)\n",
      "CNS3 Train: 0.7268936761640028\n",
      "              precision    recall  f1-score   support\n",
      "\n",
      "           0       0.70      0.55      0.62       137\n",
      "           1       0.81      0.59      0.68       115\n",
      "           2       0.85      0.84      0.85       365\n",
      "           3       0.78      0.57      0.66       103\n",
      "\n",
      "   micro avg       0.81      0.71      0.76       720\n",
      "   macro avg       0.79      0.64      0.70       720\n",
      "weighted avg       0.81      0.71      0.75       720\n",
      " samples avg       0.71      0.71      0.71       720\n",
      "\n",
      "CNS3 Test: 0.7083333333333334\n",
      "Definition: PNS1\n"
     ]
    },
    {
     "name": "stderr",
     "output_type": "stream",
     "text": [
      "/home/reu24lyme/miniconda3/lib/python3.12/site-packages/sklearn/metrics/_classification.py:1531: UndefinedMetricWarning: Precision is ill-defined and being set to 0.0 in samples with no predicted labels. Use `zero_division` parameter to control this behavior.\n",
      "  _warn_prf(average, modifier, f\"{metric.capitalize()} is\", len(result))\n",
      "/home/reu24lyme/alex/code_lib/src/lymedata.py:74: DtypeWarning: Columns (224,249,259,269,274,294,299,304,309,339,344,365,369,373,377,395,399,403,411,415,419,423,435) have mixed types. Specify dtype option on import or set low_memory=False.\n",
      "  df = pd.read_csv(csv_file)\n"
     ]
    },
    {
     "name": "stdout",
     "output_type": "stream",
     "text": [
      "Both Neuro and Mus: 2227\n",
      "Only Neuro: 248\n",
      "Only Mus: 794\n",
      "Neither Neuro nor Mus: 694\n",
      "Dropping 99\n",
      "(3598, 16)\n",
      "Index(['Fatigue', 'Headache', 'Joint Pain', 'Muscle aches', 'Neuropathy',\n",
      "       'Twitching', 'Memory Loss', 'Cognitive Impairment', 'Sleep Impairment',\n",
      "       'Psychiatric', 'Heart related', 'Gastrointestinal', 'neuro', 'musculo',\n",
      "       'both', 'neither'],\n",
      "      dtype='object')\n",
      "Original feature space: (3598, 12)\n",
      "Reduced feature space: (3598, 2)\n",
      "PNS1 Train: 0.6341209173036831\n",
      "              precision    recall  f1-score   support\n",
      "\n",
      "           0       1.00      0.03      0.05        36\n",
      "           1       0.56      0.13      0.21       175\n",
      "           2       0.82      0.91      0.86       433\n",
      "           3       0.81      0.45      0.58        76\n",
      "\n",
      "   micro avg       0.80      0.63      0.70       720\n",
      "   macro avg       0.80      0.38      0.43       720\n",
      "weighted avg       0.77      0.63      0.63       720\n",
      " samples avg       0.63      0.63      0.63       720\n",
      "\n",
      "PNS1 Test: 0.6277777777777778\n",
      "Definition: PNS2\n"
     ]
    },
    {
     "name": "stderr",
     "output_type": "stream",
     "text": [
      "/home/reu24lyme/miniconda3/lib/python3.12/site-packages/sklearn/metrics/_classification.py:1531: UndefinedMetricWarning: Precision is ill-defined and being set to 0.0 in samples with no predicted labels. Use `zero_division` parameter to control this behavior.\n",
      "  _warn_prf(average, modifier, f\"{metric.capitalize()} is\", len(result))\n",
      "/home/reu24lyme/alex/code_lib/src/lymedata.py:74: DtypeWarning: Columns (224,249,259,269,274,294,299,304,309,339,344,365,369,373,377,395,399,403,411,415,419,423,435) have mixed types. Specify dtype option on import or set low_memory=False.\n",
      "  df = pd.read_csv(csv_file)\n"
     ]
    },
    {
     "name": "stdout",
     "output_type": "stream",
     "text": [
      "Both Neuro and Mus: 1898\n",
      "Only Neuro: 577\n",
      "Only Mus: 794\n",
      "Neither Neuro nor Mus: 694\n",
      "Dropping 99\n",
      "(3598, 16)\n",
      "Index(['Fatigue', 'Headache', 'Joint Pain', 'Muscle aches', 'Neuropathy',\n",
      "       'Twitching', 'Memory Loss', 'Cognitive Impairment', 'Sleep Impairment',\n",
      "       'Psychiatric', 'Heart related', 'Gastrointestinal', 'neuro', 'musculo',\n",
      "       'both', 'neither'],\n",
      "      dtype='object')\n",
      "Original feature space: (3598, 12)\n",
      "Reduced feature space: (3598, 2)\n",
      "PNS2 Train: 0.5576789437109103\n",
      "              precision    recall  f1-score   support\n",
      "\n",
      "           0       0.69      0.12      0.20        93\n",
      "           1       0.56      0.13      0.21       175\n",
      "           2       0.86      0.89      0.88       376\n",
      "           3       0.81      0.45      0.58        76\n",
      "\n",
      "   micro avg       0.82      0.56      0.67       720\n",
      "   macro avg       0.73      0.40      0.47       720\n",
      "weighted avg       0.76      0.56      0.60       720\n",
      " samples avg       0.56      0.56      0.56       720\n",
      "\n"
     ]
    },
    {
     "name": "stderr",
     "output_type": "stream",
     "text": [
      "/home/reu24lyme/miniconda3/lib/python3.12/site-packages/sklearn/metrics/_classification.py:1531: UndefinedMetricWarning: Precision is ill-defined and being set to 0.0 in samples with no predicted labels. Use `zero_division` parameter to control this behavior.\n",
      "  _warn_prf(average, modifier, f\"{metric.capitalize()} is\", len(result))\n"
     ]
    },
    {
     "name": "stdout",
     "output_type": "stream",
     "text": [
      "PNS2 Test: 0.5611111111111111\n",
      "Definition: PNS3\n"
     ]
    },
    {
     "name": "stderr",
     "output_type": "stream",
     "text": [
      "/home/reu24lyme/alex/code_lib/src/lymedata.py:74: DtypeWarning: Columns (224,249,259,269,274,294,299,304,309,339,344,365,369,373,377,395,399,403,411,415,419,423,435) have mixed types. Specify dtype option on import or set low_memory=False.\n",
      "  df = pd.read_csv(csv_file)\n"
     ]
    },
    {
     "name": "stdout",
     "output_type": "stream",
     "text": [
      "Both Neuro and Mus: 1898\n",
      "Only Neuro: 577\n",
      "Only Mus: 492\n",
      "Neither Neuro nor Mus: 996\n",
      "Dropping 99\n",
      "(3598, 16)\n",
      "Index(['Fatigue', 'Headache', 'Joint Pain', 'Muscle aches', 'Neuropathy',\n",
      "       'Twitching', 'Memory Loss', 'Cognitive Impairment', 'Sleep Impairment',\n",
      "       'Psychiatric', 'Heart related', 'Gastrointestinal', 'neuro', 'musculo',\n",
      "       'both', 'neither'],\n",
      "      dtype='object')\n",
      "Original feature space: (3598, 12)\n",
      "Reduced feature space: (3598, 2)\n",
      "PNS3 Train: 0.5816539263377345\n",
      "              precision    recall  f1-score   support\n",
      "\n",
      "           0       0.69      0.12      0.20        93\n",
      "           1       0.00      0.00      0.00       104\n",
      "           2       0.86      0.89      0.88       376\n",
      "           3       0.77      0.54      0.64       147\n",
      "\n",
      "   micro avg       0.84      0.59      0.69       720\n",
      "   macro avg       0.58      0.39      0.43       720\n",
      "weighted avg       0.69      0.59      0.61       720\n",
      " samples avg       0.59      0.59      0.59       720\n",
      "\n",
      "PNS3 Test: 0.5930555555555556\n"
     ]
    },
    {
     "name": "stderr",
     "output_type": "stream",
     "text": [
      "/home/reu24lyme/miniconda3/lib/python3.12/site-packages/sklearn/metrics/_classification.py:1531: UndefinedMetricWarning: Precision is ill-defined and being set to 0.0 in labels with no predicted samples. Use `zero_division` parameter to control this behavior.\n",
      "  _warn_prf(average, modifier, f\"{metric.capitalize()} is\", len(result))\n",
      "/home/reu24lyme/miniconda3/lib/python3.12/site-packages/sklearn/metrics/_classification.py:1531: UndefinedMetricWarning: Precision is ill-defined and being set to 0.0 in samples with no predicted labels. Use `zero_division` parameter to control this behavior.\n",
      "  _warn_prf(average, modifier, f\"{metric.capitalize()} is\", len(result))\n"
     ]
    }
   ],
   "source": [
    "for defn in [DEF_OWD, DEF_CNS1, DEF_CNS2, DEF_CNS3, DEF_PNS1, DEF_PNS2, DEF_PNS3]:\n",
    "    print(f'Definition: {defn}')\n",
    "    data = LymeData({CHRONIC, NEURO, MUSCULO},{SYMPTOMS},{NEURO, MUSCULO, BOTH, NEITHER}, defn=defn, drop_99=True)\n",
    "    print(data.df.shape)\n",
    "    print(data.df.columns)\n",
    "    \n",
    "    X, Y = data.get_data_and_labels()\n",
    "    \n",
    "    scaler = StandardScaler()\n",
    "    X_scaled = scaler.fit_transform(X)\n",
    "    pca = PCA(n_components=2)\n",
    "    X_pca = pca.fit_transform(X_scaled)\n",
    "    \n",
    "    print(f\"Original feature space: {X.shape}\")\n",
    "    print(f\"Reduced feature space: {X_pca.shape}\")\n",
    "    \n",
    "    X_train, X_test, Y_train, Y_test = train_test_split(X_pca, Y, test_size=0.2, random_state=42)\n",
    "    \n",
    "    # classifier = OneVsRestClassifier(SVC(kernel=\"linear\", probability=True))\n",
    "    classifier = OneVsRestClassifier(SVC(kernel=\"rbf\", probability=True))\n",
    "    classifier.fit(X_train, Y_train)\n",
    "    train_accuracy = classifier.score(X_train, Y_train)\n",
    "    print(f'{defn} Train: {train_accuracy}')\n",
    "    \n",
    "    Y_pred = classifier.predict(X_test)\n",
    "    print(classification_report(Y_test, Y_pred))\n",
    "    \n",
    "    train_accuracy = classifier.score(X_test, Y_test)\n",
    "    print(f'{defn} Test: {train_accuracy}')\n"
   ]
  },
  {
   "cell_type": "code",
   "execution_count": null,
   "id": "ff7208d5-ba15-4115-91c6-3092dd0925fa",
   "metadata": {},
   "outputs": [],
   "source": []
  }
 ],
 "metadata": {
  "kernelspec": {
   "display_name": "Python 3 (ipykernel)",
   "language": "python",
   "name": "python3"
  },
  "language_info": {
   "codemirror_mode": {
    "name": "ipython",
    "version": 3
   },
   "file_extension": ".py",
   "mimetype": "text/x-python",
   "name": "python",
   "nbconvert_exporter": "python",
   "pygments_lexer": "ipython3",
   "version": "3.12.3"
  }
 },
 "nbformat": 4,
 "nbformat_minor": 5
}
