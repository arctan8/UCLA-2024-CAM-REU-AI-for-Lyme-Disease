{
 "cells": [
  {
   "cell_type": "code",
   "execution_count": 1,
   "id": "60b3210c-6934-4b19-b4a0-d31bccccc2d4",
   "metadata": {},
   "outputs": [],
   "source": [
    "%run ../../import_src.py\n",
    "\n",
    "import lymedata\n",
    "from lymedata import *\n",
    "import constants\n",
    "from constants import *\n",
    "\n",
    "from sklearn.decomposition import PCA\n",
    "from sklearn.preprocessing import StandardScaler\n",
    "from sklearn.multiclass import OneVsRestClassifier\n",
    "from sklearn.model_selection import train_test_split\n",
    "\n",
    "from sklearn.svm import SVC\n",
    "from sklearn.metrics import classification_report"
   ]
  },
  {
   "cell_type": "code",
   "execution_count": 6,
   "id": "60e42d3e-a14d-4845-a2e0-a50c92c7cd62",
   "metadata": {},
   "outputs": [
    {
     "name": "stdout",
     "output_type": "stream",
     "text": [
      "Definition: OWD\n"
     ]
    },
    {
     "name": "stderr",
     "output_type": "stream",
     "text": [
      "/home/reu24lyme/alex/code_lib/src/lymedata.py:74: DtypeWarning: Columns (224,249,259,269,274,294,299,304,309,339,344,365,369,373,377,395,399,403,411,415,419,423,435) have mixed types. Specify dtype option on import or set low_memory=False.\n",
      "  df = pd.read_csv(csv_file)\n"
     ]
    },
    {
     "name": "stdout",
     "output_type": "stream",
     "text": [
      "Both Neuro and Mus: 1562\n",
      "Only Neuro: 632\n",
      "Only Mus: 963\n",
      "Neither Neuro nor Mus: 806\n",
      "Dropping 99\n",
      "(1619, 9)\n",
      "Index(['Bed Days', 'Physical Health Days', 'Mental Health Days', 'Bio Sex',\n",
      "       'Disability', 'both', 'neither', 'musculo', 'neuro'],\n",
      "      dtype='object')\n",
      "Original feature space: (1619, 5)\n",
      "Reduced feature space: (1619, 2)\n",
      "OWD Train: 0.24864864864864866\n",
      "              precision    recall  f1-score   support\n",
      "\n",
      "           0       0.59      0.62      0.60       130\n",
      "           1       0.00      0.00      0.00        48\n",
      "           2       0.00      0.00      0.00        90\n",
      "           3       0.00      0.00      0.00        56\n",
      "\n",
      "   micro avg       0.59      0.25      0.35       324\n",
      "   macro avg       0.15      0.16      0.15       324\n",
      "weighted avg       0.24      0.25      0.24       324\n",
      " samples avg       0.25      0.25      0.25       324\n",
      "\n",
      "OWD Test: 0.25\n",
      "Definition: CNS1\n"
     ]
    },
    {
     "name": "stderr",
     "output_type": "stream",
     "text": [
      "/home/reu24lyme/miniconda3/lib/python3.12/site-packages/sklearn/metrics/_classification.py:1531: UndefinedMetricWarning: Precision is ill-defined and being set to 0.0 in labels with no predicted samples. Use `zero_division` parameter to control this behavior.\n",
      "  _warn_prf(average, modifier, f\"{metric.capitalize()} is\", len(result))\n",
      "/home/reu24lyme/miniconda3/lib/python3.12/site-packages/sklearn/metrics/_classification.py:1531: UndefinedMetricWarning: Precision is ill-defined and being set to 0.0 in samples with no predicted labels. Use `zero_division` parameter to control this behavior.\n",
      "  _warn_prf(average, modifier, f\"{metric.capitalize()} is\", len(result))\n",
      "/home/reu24lyme/alex/code_lib/src/lymedata.py:74: DtypeWarning: Columns (224,249,259,269,274,294,299,304,309,339,344,365,369,373,377,395,399,403,411,415,419,423,435) have mixed types. Specify dtype option on import or set low_memory=False.\n",
      "  df = pd.read_csv(csv_file)\n"
     ]
    },
    {
     "name": "stdout",
     "output_type": "stream",
     "text": [
      "Both Neuro and Mus: 2259\n",
      "Only Neuro: 310\n",
      "Only Mus: 762\n",
      "Neither Neuro nor Mus: 632\n",
      "Dropping 99\n",
      "(1619, 9)\n",
      "Index(['Bed Days', 'Physical Health Days', 'Mental Health Days', 'Bio Sex',\n",
      "       'Disability', 'both', 'neither', 'musculo', 'neuro'],\n",
      "      dtype='object')\n",
      "Original feature space: (1619, 5)\n",
      "Reduced feature space: (1619, 2)\n",
      "CNS1 Train: 0.4972972972972973\n",
      "              precision    recall  f1-score   support\n",
      "\n",
      "           0       0.73      0.88      0.80       199\n",
      "           1       0.00      0.00      0.00        29\n",
      "           2       0.00      0.00      0.00        71\n",
      "           3       0.00      0.00      0.00        25\n",
      "\n",
      "   micro avg       0.73      0.54      0.62       324\n",
      "   macro avg       0.18      0.22      0.20       324\n",
      "weighted avg       0.45      0.54      0.49       324\n",
      " samples avg       0.54      0.54      0.54       324\n",
      "\n",
      "CNS1 Test: 0.5401234567901234\n",
      "Definition: CNS2\n"
     ]
    },
    {
     "name": "stderr",
     "output_type": "stream",
     "text": [
      "/home/reu24lyme/miniconda3/lib/python3.12/site-packages/sklearn/metrics/_classification.py:1531: UndefinedMetricWarning: Precision is ill-defined and being set to 0.0 in labels with no predicted samples. Use `zero_division` parameter to control this behavior.\n",
      "  _warn_prf(average, modifier, f\"{metric.capitalize()} is\", len(result))\n",
      "/home/reu24lyme/miniconda3/lib/python3.12/site-packages/sklearn/metrics/_classification.py:1531: UndefinedMetricWarning: Precision is ill-defined and being set to 0.0 in samples with no predicted labels. Use `zero_division` parameter to control this behavior.\n",
      "  _warn_prf(average, modifier, f\"{metric.capitalize()} is\", len(result))\n",
      "/home/reu24lyme/alex/code_lib/src/lymedata.py:74: DtypeWarning: Columns (224,249,259,269,274,294,299,304,309,339,344,365,369,373,377,395,399,403,411,415,419,423,435) have mixed types. Specify dtype option on import or set low_memory=False.\n",
      "  df = pd.read_csv(csv_file)\n"
     ]
    },
    {
     "name": "stdout",
     "output_type": "stream",
     "text": [
      "Both Neuro and Mus: 1862\n",
      "Only Neuro: 707\n",
      "Only Mus: 762\n",
      "Neither Neuro nor Mus: 632\n",
      "Dropping 99\n",
      "(1619, 9)\n",
      "Index(['Bed Days', 'Physical Health Days', 'Mental Health Days', 'Bio Sex',\n",
      "       'Disability', 'both', 'neither', 'musculo', 'neuro'],\n",
      "      dtype='object')\n",
      "Original feature space: (1619, 5)\n",
      "Reduced feature space: (1619, 2)\n",
      "CNS2 Train: 0.32123552123552124\n",
      "              precision    recall  f1-score   support\n",
      "\n",
      "           0       0.67      0.71      0.69       157\n",
      "           1       0.00      0.00      0.00        29\n",
      "           2       0.00      0.00      0.00        71\n",
      "           3       0.00      0.00      0.00        67\n",
      "\n",
      "   micro avg       0.67      0.35      0.46       324\n",
      "   macro avg       0.17      0.18      0.17       324\n",
      "weighted avg       0.32      0.35      0.33       324\n",
      " samples avg       0.35      0.35      0.35       324\n",
      "\n",
      "CNS2 Test: 0.345679012345679\n",
      "Definition: CNS3\n"
     ]
    },
    {
     "name": "stderr",
     "output_type": "stream",
     "text": [
      "/home/reu24lyme/miniconda3/lib/python3.12/site-packages/sklearn/metrics/_classification.py:1531: UndefinedMetricWarning: Precision is ill-defined and being set to 0.0 in labels with no predicted samples. Use `zero_division` parameter to control this behavior.\n",
      "  _warn_prf(average, modifier, f\"{metric.capitalize()} is\", len(result))\n",
      "/home/reu24lyme/miniconda3/lib/python3.12/site-packages/sklearn/metrics/_classification.py:1531: UndefinedMetricWarning: Precision is ill-defined and being set to 0.0 in samples with no predicted labels. Use `zero_division` parameter to control this behavior.\n",
      "  _warn_prf(average, modifier, f\"{metric.capitalize()} is\", len(result))\n",
      "/home/reu24lyme/alex/code_lib/src/lymedata.py:74: DtypeWarning: Columns (224,249,259,269,274,294,299,304,309,339,344,365,369,373,377,395,399,403,411,415,419,423,435) have mixed types. Specify dtype option on import or set low_memory=False.\n",
      "  df = pd.read_csv(csv_file)\n"
     ]
    },
    {
     "name": "stdout",
     "output_type": "stream",
     "text": [
      "Both Neuro and Mus: 1862\n",
      "Only Neuro: 707\n",
      "Only Mus: 528\n",
      "Neither Neuro nor Mus: 866\n",
      "Dropping 99\n",
      "(1619, 9)\n",
      "Index(['Bed Days', 'Physical Health Days', 'Mental Health Days', 'Bio Sex',\n",
      "       'Disability', 'both', 'neither', 'musculo', 'neuro'],\n",
      "      dtype='object')\n",
      "Original feature space: (1619, 5)\n",
      "Reduced feature space: (1619, 2)\n",
      "CNS3 Train: 0.32123552123552124\n",
      "              precision    recall  f1-score   support\n",
      "\n",
      "           0       0.67      0.71      0.69       157\n",
      "           1       0.00      0.00      0.00        57\n",
      "           2       0.00      0.00      0.00        43\n",
      "           3       0.00      0.00      0.00        67\n",
      "\n",
      "   micro avg       0.67      0.35      0.46       324\n",
      "   macro avg       0.17      0.18      0.17       324\n",
      "weighted avg       0.32      0.35      0.33       324\n",
      " samples avg       0.35      0.35      0.35       324\n",
      "\n",
      "CNS3 Test: 0.345679012345679\n",
      "Definition: PNS1\n"
     ]
    },
    {
     "name": "stderr",
     "output_type": "stream",
     "text": [
      "/home/reu24lyme/miniconda3/lib/python3.12/site-packages/sklearn/metrics/_classification.py:1531: UndefinedMetricWarning: Precision is ill-defined and being set to 0.0 in labels with no predicted samples. Use `zero_division` parameter to control this behavior.\n",
      "  _warn_prf(average, modifier, f\"{metric.capitalize()} is\", len(result))\n",
      "/home/reu24lyme/miniconda3/lib/python3.12/site-packages/sklearn/metrics/_classification.py:1531: UndefinedMetricWarning: Precision is ill-defined and being set to 0.0 in samples with no predicted labels. Use `zero_division` parameter to control this behavior.\n",
      "  _warn_prf(average, modifier, f\"{metric.capitalize()} is\", len(result))\n",
      "/home/reu24lyme/alex/code_lib/src/lymedata.py:74: DtypeWarning: Columns (224,249,259,269,274,294,299,304,309,339,344,365,369,373,377,395,399,403,411,415,419,423,435) have mixed types. Specify dtype option on import or set low_memory=False.\n",
      "  df = pd.read_csv(csv_file)\n"
     ]
    },
    {
     "name": "stdout",
     "output_type": "stream",
     "text": [
      "Both Neuro and Mus: 2227\n",
      "Only Neuro: 248\n",
      "Only Mus: 794\n",
      "Neither Neuro nor Mus: 694\n",
      "Dropping 99\n",
      "(1619, 9)\n",
      "Index(['Bed Days', 'Physical Health Days', 'Mental Health Days', 'Bio Sex',\n",
      "       'Disability', 'both', 'neither', 'musculo', 'neuro'],\n",
      "      dtype='object')\n",
      "Original feature space: (1619, 5)\n",
      "Reduced feature space: (1619, 2)\n",
      "PNS1 Train: 0.46795366795366794\n",
      "              precision    recall  f1-score   support\n",
      "\n",
      "           0       0.65      0.84      0.73       185\n",
      "           1       0.00      0.00      0.00        35\n",
      "           2       0.00      0.00      0.00        85\n",
      "           3       0.00      0.00      0.00        19\n",
      "\n",
      "   micro avg       0.65      0.48      0.55       324\n",
      "   macro avg       0.16      0.21      0.18       324\n",
      "weighted avg       0.37      0.48      0.42       324\n",
      " samples avg       0.48      0.48      0.48       324\n",
      "\n",
      "PNS1 Test: 0.4783950617283951\n",
      "Definition: PNS2\n"
     ]
    },
    {
     "name": "stderr",
     "output_type": "stream",
     "text": [
      "/home/reu24lyme/miniconda3/lib/python3.12/site-packages/sklearn/metrics/_classification.py:1531: UndefinedMetricWarning: Precision is ill-defined and being set to 0.0 in labels with no predicted samples. Use `zero_division` parameter to control this behavior.\n",
      "  _warn_prf(average, modifier, f\"{metric.capitalize()} is\", len(result))\n",
      "/home/reu24lyme/miniconda3/lib/python3.12/site-packages/sklearn/metrics/_classification.py:1531: UndefinedMetricWarning: Precision is ill-defined and being set to 0.0 in samples with no predicted labels. Use `zero_division` parameter to control this behavior.\n",
      "  _warn_prf(average, modifier, f\"{metric.capitalize()} is\", len(result))\n",
      "/home/reu24lyme/alex/code_lib/src/lymedata.py:74: DtypeWarning: Columns (224,249,259,269,274,294,299,304,309,339,344,365,369,373,377,395,399,403,411,415,419,423,435) have mixed types. Specify dtype option on import or set low_memory=False.\n",
      "  df = pd.read_csv(csv_file)\n"
     ]
    },
    {
     "name": "stdout",
     "output_type": "stream",
     "text": [
      "Both Neuro and Mus: 1898\n",
      "Only Neuro: 577\n",
      "Only Mus: 794\n",
      "Neither Neuro nor Mus: 694\n",
      "Dropping 99\n",
      "(1619, 9)\n",
      "Index(['Bed Days', 'Physical Health Days', 'Mental Health Days', 'Bio Sex',\n",
      "       'Disability', 'both', 'neither', 'musculo', 'neuro'],\n",
      "      dtype='object')\n",
      "Original feature space: (1619, 5)\n",
      "Reduced feature space: (1619, 2)\n",
      "PNS2 Train: 0.3250965250965251\n",
      "              precision    recall  f1-score   support\n",
      "\n",
      "           0       0.60      0.69      0.64       152\n",
      "           1       0.00      0.00      0.00        35\n",
      "           2       0.00      0.00      0.00        85\n",
      "           3       0.00      0.00      0.00        52\n",
      "\n",
      "   micro avg       0.60      0.32      0.42       324\n",
      "   macro avg       0.15      0.17      0.16       324\n",
      "weighted avg       0.28      0.32      0.30       324\n",
      " samples avg       0.32      0.32      0.32       324\n",
      "\n",
      "PNS2 Test: 0.32407407407407407\n",
      "Definition: PNS3\n"
     ]
    },
    {
     "name": "stderr",
     "output_type": "stream",
     "text": [
      "/home/reu24lyme/miniconda3/lib/python3.12/site-packages/sklearn/metrics/_classification.py:1531: UndefinedMetricWarning: Precision is ill-defined and being set to 0.0 in labels with no predicted samples. Use `zero_division` parameter to control this behavior.\n",
      "  _warn_prf(average, modifier, f\"{metric.capitalize()} is\", len(result))\n",
      "/home/reu24lyme/miniconda3/lib/python3.12/site-packages/sklearn/metrics/_classification.py:1531: UndefinedMetricWarning: Precision is ill-defined and being set to 0.0 in samples with no predicted labels. Use `zero_division` parameter to control this behavior.\n",
      "  _warn_prf(average, modifier, f\"{metric.capitalize()} is\", len(result))\n",
      "/home/reu24lyme/alex/code_lib/src/lymedata.py:74: DtypeWarning: Columns (224,249,259,269,274,294,299,304,309,339,344,365,369,373,377,395,399,403,411,415,419,423,435) have mixed types. Specify dtype option on import or set low_memory=False.\n",
      "  df = pd.read_csv(csv_file)\n"
     ]
    },
    {
     "name": "stdout",
     "output_type": "stream",
     "text": [
      "Both Neuro and Mus: 1898\n",
      "Only Neuro: 577\n",
      "Only Mus: 492\n",
      "Neither Neuro nor Mus: 996\n",
      "Dropping 99\n",
      "(1619, 9)\n",
      "Index(['Bed Days', 'Physical Health Days', 'Mental Health Days', 'Bio Sex',\n",
      "       'Disability', 'both', 'neither', 'musculo', 'neuro'],\n",
      "      dtype='object')\n",
      "Original feature space: (1619, 5)\n",
      "Reduced feature space: (1619, 2)\n",
      "PNS3 Train: 0.3250965250965251\n",
      "              precision    recall  f1-score   support\n",
      "\n",
      "           0       0.60      0.69      0.64       152\n",
      "           1       0.00      0.00      0.00        72\n",
      "           2       0.00      0.00      0.00        48\n",
      "           3       0.00      0.00      0.00        52\n",
      "\n",
      "   micro avg       0.60      0.32      0.42       324\n",
      "   macro avg       0.15      0.17      0.16       324\n",
      "weighted avg       0.28      0.32      0.30       324\n",
      " samples avg       0.32      0.32      0.32       324\n",
      "\n",
      "PNS3 Test: 0.32407407407407407\n"
     ]
    },
    {
     "name": "stderr",
     "output_type": "stream",
     "text": [
      "/home/reu24lyme/miniconda3/lib/python3.12/site-packages/sklearn/metrics/_classification.py:1531: UndefinedMetricWarning: Precision is ill-defined and being set to 0.0 in labels with no predicted samples. Use `zero_division` parameter to control this behavior.\n",
      "  _warn_prf(average, modifier, f\"{metric.capitalize()} is\", len(result))\n",
      "/home/reu24lyme/miniconda3/lib/python3.12/site-packages/sklearn/metrics/_classification.py:1531: UndefinedMetricWarning: Precision is ill-defined and being set to 0.0 in samples with no predicted labels. Use `zero_division` parameter to control this behavior.\n",
      "  _warn_prf(average, modifier, f\"{metric.capitalize()} is\", len(result))\n"
     ]
    }
   ],
   "source": [
    "for defn in [DEF_OWD, DEF_CNS1, DEF_CNS2, DEF_CNS3, DEF_PNS1, DEF_PNS2, DEF_PNS3]:\n",
    "    print(f'Definition: {defn}')\n",
    "    data = LymeData({CHRONIC, NEURO, MUSCULO},{ADDL_CIR},{NEURO, MUSCULO, BOTH, NEITHER}, individual_cols={'Bio Sex','Bed Days',\n",
    "       'Mental Health Days', 'Physical Health Days', 'Disability'}, defn=defn, drop_99=True)\n",
    "    print(data.df.shape)\n",
    "    print(data.df.columns)\n",
    "    \n",
    "    X, Y = data.get_data_and_labels()\n",
    "    \n",
    "    scaler = StandardScaler()\n",
    "    # X_scaled = scaler.fit_transform(X\n",
    "    X_scaled = X\n",
    "    pca = PCA(n_components=2)\n",
    "    X_pca = pca.fit_transform(X_scaled)\n",
    "    \n",
    "    print(f\"Original feature space: {X.shape}\")\n",
    "    print(f\"Reduced feature space: {X_pca.shape}\")\n",
    "    \n",
    "    X_train, X_test, Y_train, Y_test = train_test_split(X_pca, Y, test_size=0.2, random_state=42)\n",
    "    \n",
    "    # classifier = OneVsRestClassifier(SVC(kernel=\"linear\", probability=True))\n",
    "    classifier = OneVsRestClassifier(SVC(kernel=\"rbf\", probability=True))\n",
    "    classifier.fit(X_train, Y_train)\n",
    "    train_accuracy = classifier.score(X_train, Y_train)\n",
    "    print(f'{defn} Train: {train_accuracy}')\n",
    "    \n",
    "    Y_pred = classifier.predict(X_test)\n",
    "    print(classification_report(Y_test, Y_pred))\n",
    "    \n",
    "    train_accuracy = classifier.score(X_test, Y_test)\n",
    "    print(f'{defn} Test: {train_accuracy}')\n"
   ]
  },
  {
   "cell_type": "code",
   "execution_count": null,
   "id": "f2255f7f-d3b6-4789-bd91-bceb3f24b739",
   "metadata": {},
   "outputs": [],
   "source": []
  },
  {
   "cell_type": "code",
   "execution_count": null,
   "id": "a180604e-7481-4833-8134-780e7686cc0b",
   "metadata": {},
   "outputs": [],
   "source": []
  }
 ],
 "metadata": {
  "kernelspec": {
   "display_name": "Python 3 (ipykernel)",
   "language": "python",
   "name": "python3"
  },
  "language_info": {
   "codemirror_mode": {
    "name": "ipython",
    "version": 3
   },
   "file_extension": ".py",
   "mimetype": "text/x-python",
   "name": "python",
   "nbconvert_exporter": "python",
   "pygments_lexer": "ipython3",
   "version": "3.12.3"
  }
 },
 "nbformat": 4,
 "nbformat_minor": 5
}
