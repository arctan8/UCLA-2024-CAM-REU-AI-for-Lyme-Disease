{
 "cells": [
  {
   "cell_type": "code",
   "execution_count": 1,
   "id": "f4756ad8-f238-499c-8c48-44ceeac21389",
   "metadata": {},
   "outputs": [],
   "source": [
    "%run ../../import_src.py\n",
    "\n",
    "import lymedata\n",
    "from lymedata import *\n",
    "import constants\n",
    "from constants import *\n",
    "\n",
    "from sklearn.decomposition import PCA, KernelPCA\n",
    "from sklearn.preprocessing import StandardScaler\n",
    "from sklearn.multiclass import OneVsRestClassifier\n",
    "from sklearn.model_selection import train_test_split\n",
    "\n",
    "from sklearn.svm import SVC\n",
    "from sklearn.metrics import classification_report"
   ]
  },
  {
   "cell_type": "code",
   "execution_count": 8,
   "id": "75aaca20-7f54-4df3-90f5-b1b29dadc275",
   "metadata": {},
   "outputs": [
    {
     "name": "stderr",
     "output_type": "stream",
     "text": [
      "/home/reu24lyme/alex/code_lib/src/lymedata.py:74: DtypeWarning: Columns (224,249,259,269,274,294,299,304,309,339,344,365,369,373,377,395,399,403,411,415,419,423,435) have mixed types. Specify dtype option on import or set low_memory=False.\n",
      "  df = pd.read_csv(csv_file)\n"
     ]
    },
    {
     "name": "stdout",
     "output_type": "stream",
     "text": [
      "Both Neuro and Mus: 2259\n",
      "Only Neuro: 310\n",
      "Only Mus: 762\n",
      "Neither Neuro nor Mus: 632\n",
      "Dropping 99\n",
      "(1619, 12)\n",
      "Index(['Bio Sex', 'Antibiotics', 'Times Infected', 'GROC', 'Bed Days',\n",
      "       'Mental Health Days', 'Physical Health Days', 'Disability', 'both',\n",
      "       'neuro', 'musculo', 'neither'],\n",
      "      dtype='object')\n",
      "Original feature space: (1619, 8)\n",
      "Reduced feature space: (1619, 4)\n",
      "linear\n",
      "              precision    recall  f1-score   support\n",
      "\n",
      "           0       0.71      0.86      0.78       199\n",
      "           1       0.00      0.00      0.00        25\n",
      "           2       0.29      0.08      0.13        71\n",
      "           3       0.00      0.00      0.00        29\n",
      "\n",
      "   micro avg       0.68      0.55      0.61       324\n",
      "   macro avg       0.25      0.24      0.23       324\n",
      "weighted avg       0.50      0.55      0.51       324\n",
      " samples avg       0.55      0.55      0.55       324\n",
      "\n",
      "Original feature space: (1619, 8)\n",
      "Reduced feature space: (1619, 4)\n"
     ]
    },
    {
     "name": "stderr",
     "output_type": "stream",
     "text": [
      "/home/reu24lyme/miniconda3/lib/python3.12/site-packages/sklearn/metrics/_classification.py:1531: UndefinedMetricWarning: Precision is ill-defined and being set to 0.0 in labels with no predicted samples. Use `zero_division` parameter to control this behavior.\n",
      "  _warn_prf(average, modifier, f\"{metric.capitalize()} is\", len(result))\n",
      "/home/reu24lyme/miniconda3/lib/python3.12/site-packages/sklearn/metrics/_classification.py:1531: UndefinedMetricWarning: Precision is ill-defined and being set to 0.0 in samples with no predicted labels. Use `zero_division` parameter to control this behavior.\n",
      "  _warn_prf(average, modifier, f\"{metric.capitalize()} is\", len(result))\n"
     ]
    },
    {
     "name": "stdout",
     "output_type": "stream",
     "text": [
      "poly\n",
      "              precision    recall  f1-score   support\n",
      "\n",
      "           0       0.73      0.85      0.79       199\n",
      "           1       0.00      0.00      0.00        25\n",
      "           2       0.29      0.07      0.11        71\n",
      "           3       0.00      0.00      0.00        29\n",
      "\n",
      "   micro avg       0.69      0.54      0.61       324\n",
      "   macro avg       0.26      0.23      0.22       324\n",
      "weighted avg       0.51      0.54      0.51       324\n",
      " samples avg       0.54      0.54      0.54       324\n",
      "\n",
      "Original feature space: (1619, 8)\n",
      "Reduced feature space: (1619, 4)\n"
     ]
    },
    {
     "name": "stderr",
     "output_type": "stream",
     "text": [
      "/home/reu24lyme/miniconda3/lib/python3.12/site-packages/sklearn/metrics/_classification.py:1531: UndefinedMetricWarning: Precision is ill-defined and being set to 0.0 in labels with no predicted samples. Use `zero_division` parameter to control this behavior.\n",
      "  _warn_prf(average, modifier, f\"{metric.capitalize()} is\", len(result))\n",
      "/home/reu24lyme/miniconda3/lib/python3.12/site-packages/sklearn/metrics/_classification.py:1531: UndefinedMetricWarning: Precision is ill-defined and being set to 0.0 in samples with no predicted labels. Use `zero_division` parameter to control this behavior.\n",
      "  _warn_prf(average, modifier, f\"{metric.capitalize()} is\", len(result))\n"
     ]
    },
    {
     "name": "stdout",
     "output_type": "stream",
     "text": [
      "rbf\n",
      "              precision    recall  f1-score   support\n",
      "\n",
      "           0       0.72      0.87      0.79       199\n",
      "           1       0.00      0.00      0.00        25\n",
      "           2       0.22      0.06      0.09        71\n",
      "           3       0.00      0.00      0.00        29\n",
      "\n",
      "   micro avg       0.68      0.55      0.61       324\n",
      "   macro avg       0.24      0.23      0.22       324\n",
      "weighted avg       0.49      0.55      0.50       324\n",
      " samples avg       0.55      0.55      0.55       324\n",
      "\n",
      "Original feature space: (1619, 8)\n",
      "Reduced feature space: (1619, 4)\n"
     ]
    },
    {
     "name": "stderr",
     "output_type": "stream",
     "text": [
      "/home/reu24lyme/miniconda3/lib/python3.12/site-packages/sklearn/metrics/_classification.py:1531: UndefinedMetricWarning: Precision is ill-defined and being set to 0.0 in labels with no predicted samples. Use `zero_division` parameter to control this behavior.\n",
      "  _warn_prf(average, modifier, f\"{metric.capitalize()} is\", len(result))\n",
      "/home/reu24lyme/miniconda3/lib/python3.12/site-packages/sklearn/metrics/_classification.py:1531: UndefinedMetricWarning: Precision is ill-defined and being set to 0.0 in samples with no predicted labels. Use `zero_division` parameter to control this behavior.\n",
      "  _warn_prf(average, modifier, f\"{metric.capitalize()} is\", len(result))\n"
     ]
    },
    {
     "name": "stdout",
     "output_type": "stream",
     "text": [
      "sigmoid\n",
      "              precision    recall  f1-score   support\n",
      "\n",
      "           0       0.70      0.87      0.78       199\n",
      "           1       0.00      0.00      0.00        25\n",
      "           2       1.00      0.01      0.03        71\n",
      "           3       0.00      0.00      0.00        29\n",
      "\n",
      "   micro avg       0.71      0.54      0.61       324\n",
      "   macro avg       0.43      0.22      0.20       324\n",
      "weighted avg       0.65      0.54      0.49       324\n",
      " samples avg       0.54      0.54      0.54       324\n",
      "\n"
     ]
    },
    {
     "name": "stderr",
     "output_type": "stream",
     "text": [
      "/home/reu24lyme/miniconda3/lib/python3.12/site-packages/sklearn/metrics/_classification.py:1531: UndefinedMetricWarning: Precision is ill-defined and being set to 0.0 in labels with no predicted samples. Use `zero_division` parameter to control this behavior.\n",
      "  _warn_prf(average, modifier, f\"{metric.capitalize()} is\", len(result))\n",
      "/home/reu24lyme/miniconda3/lib/python3.12/site-packages/sklearn/metrics/_classification.py:1531: UndefinedMetricWarning: Precision is ill-defined and being set to 0.0 in samples with no predicted labels. Use `zero_division` parameter to control this behavior.\n",
      "  _warn_prf(average, modifier, f\"{metric.capitalize()} is\", len(result))\n"
     ]
    }
   ],
   "source": [
    "from sklearn.neural_network import MLPClassifier\n",
    "\n",
    "data = LymeData({CHRONIC, NEURO, MUSCULO},{ADDL_CIR},{NEURO, MUSCULO, BOTH, NEITHER}, defn=DEF_CNS1, drop_99=True)\n",
    "print(data.df.shape)\n",
    "print(data.df.columns)\n",
    "\n",
    "X, Y = data.get_data_and_labels()\n",
    "\n",
    "scaler = StandardScaler()\n",
    "X_scaled = scaler.fit_transform(X)\n",
    "\n",
    "kernels = [\"linear\", \"poly\", \"rbf\", \"sigmoid\"] ## linear is best\n",
    "for kernel in kernels:\n",
    "    pca = KernelPCA(n_components=4, kernel=kernel)\n",
    "    X_pca = pca.fit_transform(X_scaled)\n",
    "    \n",
    "    print(f\"Original feature space: {X.shape}\")\n",
    "    print(f\"Reduced feature space: {X_pca.shape}\")\n",
    "    \n",
    "    X_train, X_test, Y_train, Y_test = train_test_split(X_pca, Y, test_size=0.2, random_state=42)\n",
    "    \n",
    "    # classifier = OneVsRestClassifier(SVC(kernel=\"linear\", probability=True))\n",
    "    # classifier = OneVsRestClassifier(RandomForestClassifier(n_estimators=200, random_state=42))\n",
    "    \n",
    "    classifier = OneVsRestClassifier(\n",
    "            MLPClassifier(hidden_layer_sizes=(128, 64), activation=\"relu\", solver=\"adam\", max_iter=500, random_state=42))\n",
    "    classifier.fit(X_train, Y_train)\n",
    "    \n",
    "    Y_pred = classifier.predict(X_test)\n",
    "    print(kernel)\n",
    "    print(classification_report(Y_test, Y_pred))"
   ]
  },
  {
   "cell_type": "code",
   "execution_count": 7,
   "id": "f881a163-febb-4c7c-95b5-f7657a68ba83",
   "metadata": {},
   "outputs": [
    {
     "name": "stderr",
     "output_type": "stream",
     "text": [
      "/home/reu24lyme/alex/code_lib/src/lymedata.py:74: DtypeWarning: Columns (224,249,259,269,274,294,299,304,309,339,344,365,369,373,377,395,399,403,411,415,419,423,435) have mixed types. Specify dtype option on import or set low_memory=False.\n",
      "  df = pd.read_csv(csv_file)\n"
     ]
    },
    {
     "name": "stdout",
     "output_type": "stream",
     "text": [
      "Both Neuro and Mus: 2259\n",
      "Only Neuro: 310\n",
      "Only Mus: 762\n",
      "Neither Neuro nor Mus: 632\n",
      "Dropping 99\n",
      "(878, 31)\n",
      "Index(['recall a tick bite', 'length of time noticed tick bite',\n",
      "       'treated with antibiotics', 'length of time treated for tick bite',\n",
      "       'period of time for diagnosis', 'misdiagnosis', 'tick born coinfection',\n",
      "       'Babesia', 'Bartonella', 'Ehrlichia/ Anaplasma', 'Mycoplasma',\n",
      "       'Rickettsia', 'Bio Sex', 'Antibiotics', 'Times Infected', 'GROC',\n",
      "       'Bed Days', 'Mental Health Days', 'Physical Health Days', 'Disability',\n",
      "       'general practitioner', 'infectious disease specialist', 'internist',\n",
      "       'lyme specialist', 'other doctor', 'pediatrician', 'rheumatologist',\n",
      "       'neuro', 'musculo', 'both', 'neither'],\n",
      "      dtype='object')\n",
      "Original feature space: (878, 27)\n",
      "Reduced feature space: (878, 15)\n",
      "linear\n",
      "              precision    recall  f1-score   support\n",
      "\n",
      "           0       0.00      0.00      0.00        11\n",
      "           1       0.33      0.09      0.15        43\n",
      "           2       0.70      0.72      0.71        99\n",
      "           3       0.14      0.04      0.07        23\n",
      "\n",
      "   micro avg       0.62      0.43      0.51       176\n",
      "   macro avg       0.29      0.21      0.23       176\n",
      "weighted avg       0.49      0.43      0.44       176\n",
      " samples avg       0.43      0.43      0.43       176\n",
      "\n"
     ]
    },
    {
     "name": "stderr",
     "output_type": "stream",
     "text": [
      "/home/reu24lyme/miniconda3/lib/python3.12/site-packages/xgboost/core.py:158: UserWarning: [14:19:44] WARNING: /croot/xgboost-split_1724073744422/work/src/learner.cc:740: \n",
      "Parameters: { \"use_label_encoder\" } are not used.\n",
      "\n",
      "  warnings.warn(smsg, UserWarning)\n",
      "/home/reu24lyme/miniconda3/lib/python3.12/site-packages/sklearn/metrics/_classification.py:1531: UndefinedMetricWarning: Precision is ill-defined and being set to 0.0 in samples with no predicted labels. Use `zero_division` parameter to control this behavior.\n",
      "  _warn_prf(average, modifier, f\"{metric.capitalize()} is\", len(result))\n",
      "/home/reu24lyme/miniconda3/lib/python3.12/site-packages/sklearn/metrics/_classification.py:1531: UndefinedMetricWarning: Precision is ill-defined and being set to 0.0 in samples with no predicted labels. Use `zero_division` parameter to control this behavior.\n",
      "  _warn_prf(average, modifier, f\"{metric.capitalize()} is\", len(result))\n",
      "/home/reu24lyme/alex/code_lib/src/lymedata.py:74: DtypeWarning: Columns (224,249,259,269,274,294,299,304,309,339,344,365,369,373,377,395,399,403,411,415,419,423,435) have mixed types. Specify dtype option on import or set low_memory=False.\n",
      "  df = pd.read_csv(csv_file)\n"
     ]
    },
    {
     "name": "stdout",
     "output_type": "stream",
     "text": [
      "Both Neuro and Mus: 2259\n",
      "Only Neuro: 310\n",
      "Only Mus: 762\n",
      "Neither Neuro nor Mus: 632\n",
      "Dropping 99\n",
      "(878, 31)\n",
      "Index(['recall a tick bite', 'length of time noticed tick bite',\n",
      "       'treated with antibiotics', 'length of time treated for tick bite',\n",
      "       'period of time for diagnosis', 'misdiagnosis', 'tick born coinfection',\n",
      "       'Babesia', 'Bartonella', 'Ehrlichia/ Anaplasma', 'Mycoplasma',\n",
      "       'Rickettsia', 'Bio Sex', 'Antibiotics', 'Times Infected', 'GROC',\n",
      "       'Bed Days', 'Mental Health Days', 'Physical Health Days', 'Disability',\n",
      "       'general practitioner', 'infectious disease specialist', 'internist',\n",
      "       'lyme specialist', 'other doctor', 'pediatrician', 'rheumatologist',\n",
      "       'neuro', 'musculo', 'both', 'neither'],\n",
      "      dtype='object')\n",
      "Original feature space: (878, 27)\n",
      "Reduced feature space: (878, 15)\n",
      "poly\n",
      "              precision    recall  f1-score   support\n",
      "\n",
      "           0       0.00      0.00      0.00        11\n",
      "           1       0.27      0.09      0.14        43\n",
      "           2       0.74      0.66      0.70        99\n",
      "           3       0.00      0.00      0.00        23\n",
      "\n",
      "   micro avg       0.64      0.39      0.49       176\n",
      "   macro avg       0.25      0.19      0.21       176\n",
      "weighted avg       0.48      0.39      0.42       176\n",
      " samples avg       0.39      0.39      0.39       176\n",
      "\n"
     ]
    },
    {
     "name": "stderr",
     "output_type": "stream",
     "text": [
      "/home/reu24lyme/miniconda3/lib/python3.12/site-packages/xgboost/core.py:158: UserWarning: [14:19:45] WARNING: /croot/xgboost-split_1724073744422/work/src/learner.cc:740: \n",
      "Parameters: { \"use_label_encoder\" } are not used.\n",
      "\n",
      "  warnings.warn(smsg, UserWarning)\n",
      "/home/reu24lyme/miniconda3/lib/python3.12/site-packages/sklearn/metrics/_classification.py:1531: UndefinedMetricWarning: Precision is ill-defined and being set to 0.0 in samples with no predicted labels. Use `zero_division` parameter to control this behavior.\n",
      "  _warn_prf(average, modifier, f\"{metric.capitalize()} is\", len(result))\n",
      "/home/reu24lyme/miniconda3/lib/python3.12/site-packages/sklearn/metrics/_classification.py:1531: UndefinedMetricWarning: Precision is ill-defined and being set to 0.0 in samples with no predicted labels. Use `zero_division` parameter to control this behavior.\n",
      "  _warn_prf(average, modifier, f\"{metric.capitalize()} is\", len(result))\n",
      "/home/reu24lyme/alex/code_lib/src/lymedata.py:74: DtypeWarning: Columns (224,249,259,269,274,294,299,304,309,339,344,365,369,373,377,395,399,403,411,415,419,423,435) have mixed types. Specify dtype option on import or set low_memory=False.\n",
      "  df = pd.read_csv(csv_file)\n"
     ]
    },
    {
     "name": "stdout",
     "output_type": "stream",
     "text": [
      "Both Neuro and Mus: 2259\n",
      "Only Neuro: 310\n",
      "Only Mus: 762\n",
      "Neither Neuro nor Mus: 632\n",
      "Dropping 99\n",
      "(878, 31)\n",
      "Index(['recall a tick bite', 'length of time noticed tick bite',\n",
      "       'treated with antibiotics', 'length of time treated for tick bite',\n",
      "       'period of time for diagnosis', 'misdiagnosis', 'tick born coinfection',\n",
      "       'Babesia', 'Bartonella', 'Ehrlichia/ Anaplasma', 'Mycoplasma',\n",
      "       'Rickettsia', 'Bio Sex', 'Antibiotics', 'Times Infected', 'GROC',\n",
      "       'Bed Days', 'Mental Health Days', 'Physical Health Days', 'Disability',\n",
      "       'general practitioner', 'infectious disease specialist', 'internist',\n",
      "       'lyme specialist', 'other doctor', 'pediatrician', 'rheumatologist',\n",
      "       'neuro', 'musculo', 'both', 'neither'],\n",
      "      dtype='object')\n",
      "Original feature space: (878, 27)\n",
      "Reduced feature space: (878, 15)\n",
      "rbf\n",
      "              precision    recall  f1-score   support\n",
      "\n",
      "           0       0.00      0.00      0.00        11\n",
      "           1       0.50      0.12      0.19        43\n",
      "           2       0.70      0.68      0.69        99\n",
      "           3       0.50      0.09      0.15        23\n",
      "\n",
      "   micro avg       0.66      0.42      0.51       176\n",
      "   macro avg       0.42      0.22      0.26       176\n",
      "weighted avg       0.58      0.42      0.45       176\n",
      " samples avg       0.42      0.42      0.42       176\n",
      "\n"
     ]
    },
    {
     "name": "stderr",
     "output_type": "stream",
     "text": [
      "/home/reu24lyme/miniconda3/lib/python3.12/site-packages/xgboost/core.py:158: UserWarning: [14:19:46] WARNING: /croot/xgboost-split_1724073744422/work/src/learner.cc:740: \n",
      "Parameters: { \"use_label_encoder\" } are not used.\n",
      "\n",
      "  warnings.warn(smsg, UserWarning)\n",
      "/home/reu24lyme/miniconda3/lib/python3.12/site-packages/sklearn/metrics/_classification.py:1531: UndefinedMetricWarning: Precision is ill-defined and being set to 0.0 in samples with no predicted labels. Use `zero_division` parameter to control this behavior.\n",
      "  _warn_prf(average, modifier, f\"{metric.capitalize()} is\", len(result))\n",
      "/home/reu24lyme/miniconda3/lib/python3.12/site-packages/sklearn/metrics/_classification.py:1531: UndefinedMetricWarning: Precision is ill-defined and being set to 0.0 in samples with no predicted labels. Use `zero_division` parameter to control this behavior.\n",
      "  _warn_prf(average, modifier, f\"{metric.capitalize()} is\", len(result))\n",
      "/home/reu24lyme/alex/code_lib/src/lymedata.py:74: DtypeWarning: Columns (224,249,259,269,274,294,299,304,309,339,344,365,369,373,377,395,399,403,411,415,419,423,435) have mixed types. Specify dtype option on import or set low_memory=False.\n",
      "  df = pd.read_csv(csv_file)\n"
     ]
    },
    {
     "name": "stdout",
     "output_type": "stream",
     "text": [
      "Both Neuro and Mus: 2259\n",
      "Only Neuro: 310\n",
      "Only Mus: 762\n",
      "Neither Neuro nor Mus: 632\n",
      "Dropping 99\n",
      "(878, 31)\n",
      "Index(['recall a tick bite', 'length of time noticed tick bite',\n",
      "       'treated with antibiotics', 'length of time treated for tick bite',\n",
      "       'period of time for diagnosis', 'misdiagnosis', 'tick born coinfection',\n",
      "       'Babesia', 'Bartonella', 'Ehrlichia/ Anaplasma', 'Mycoplasma',\n",
      "       'Rickettsia', 'Bio Sex', 'Antibiotics', 'Times Infected', 'GROC',\n",
      "       'Bed Days', 'Mental Health Days', 'Physical Health Days', 'Disability',\n",
      "       'general practitioner', 'infectious disease specialist', 'internist',\n",
      "       'lyme specialist', 'other doctor', 'pediatrician', 'rheumatologist',\n",
      "       'neuro', 'musculo', 'both', 'neither'],\n",
      "      dtype='object')\n",
      "Original feature space: (878, 27)\n",
      "Reduced feature space: (878, 15)\n",
      "sigmoid\n",
      "              precision    recall  f1-score   support\n",
      "\n",
      "           0       0.00      0.00      0.00        11\n",
      "           1       0.50      0.21      0.30        43\n",
      "           2       0.71      0.68      0.69        99\n",
      "           3       0.40      0.09      0.14        23\n",
      "\n",
      "   micro avg       0.66      0.44      0.53       176\n",
      "   macro avg       0.40      0.24      0.28       176\n",
      "weighted avg       0.57      0.44      0.48       176\n",
      " samples avg       0.43      0.44      0.44       176\n",
      "\n"
     ]
    },
    {
     "name": "stderr",
     "output_type": "stream",
     "text": [
      "/home/reu24lyme/miniconda3/lib/python3.12/site-packages/xgboost/core.py:158: UserWarning: [14:19:46] WARNING: /croot/xgboost-split_1724073744422/work/src/learner.cc:740: \n",
      "Parameters: { \"use_label_encoder\" } are not used.\n",
      "\n",
      "  warnings.warn(smsg, UserWarning)\n",
      "/home/reu24lyme/miniconda3/lib/python3.12/site-packages/xgboost/core.py:158: UserWarning: [14:19:47] WARNING: /croot/xgboost-split_1724073744422/work/src/learner.cc:740: \n",
      "Parameters: { \"use_label_encoder\" } are not used.\n",
      "\n",
      "  warnings.warn(smsg, UserWarning)\n",
      "/home/reu24lyme/miniconda3/lib/python3.12/site-packages/sklearn/metrics/_classification.py:1531: UndefinedMetricWarning: Precision is ill-defined and being set to 0.0 in samples with no predicted labels. Use `zero_division` parameter to control this behavior.\n",
      "  _warn_prf(average, modifier, f\"{metric.capitalize()} is\", len(result))\n",
      "/home/reu24lyme/miniconda3/lib/python3.12/site-packages/sklearn/metrics/_classification.py:1531: UndefinedMetricWarning: Precision is ill-defined and being set to 0.0 in samples with no predicted labels. Use `zero_division` parameter to control this behavior.\n",
      "  _warn_prf(average, modifier, f\"{metric.capitalize()} is\", len(result))\n"
     ]
    }
   ],
   "source": [
    "from xgboost import XGBClassifier\n",
    "\n",
    "kernels = [\"linear\", \"poly\", \"rbf\", \"sigmoid\"]\n",
    "# kernels = [\"linear\"] \n",
    "results = {}\n",
    "for kernel in kernels:\n",
    "    data = LymeData({CHRONIC, NEURO, MUSCULO},{ADDL_CIR, DIAG_CIR, CATG},{NEURO, MUSCULO, BOTH, NEITHER}, defn=DEF_CNS1, drop_99=True)\n",
    "    print(data.df.shape)\n",
    "    print(data.df.columns)\n",
    "    \n",
    "    X, Y = data.get_data_and_labels()\n",
    "    \n",
    "    scaler = StandardScaler()\n",
    "    X_scaled = scaler.fit_transform(X)\n",
    "    pca = KernelPCA(n_components=15, kernel=kernel)\n",
    "    X_pca = pca.fit_transform(X_scaled)\n",
    "    \n",
    "    print(f\"Original feature space: {X.shape}\")\n",
    "    print(f\"Reduced feature space: {X_pca.shape}\")\n",
    "    \n",
    "    X_train, X_test, Y_train, Y_test = train_test_split(X_pca, Y, test_size=0.2, random_state=42)\n",
    "    \n",
    "    # classifier = OneVsRestClassifier(SVC(kernel=\"linear\", probability=True))\n",
    "    # classifier = OneVsRestClassifier(RandomForestClassifier(n_estimators=200, random_state=42))\n",
    "    \n",
    "    xgb_classifier = OneVsRestClassifier(\n",
    "            XGBClassifier(n_estimators=100, learning_rate=0.1, max_depth=3, use_label_encoder=False, eval_metric=\"logloss\")\n",
    "        )\n",
    "    xgb_classifier.fit(X_train, Y_train)\n",
    "    Y_pred = xgb_classifier.predict(X_test)\n",
    "    \n",
    "    Y_pred = xgb_classifier.predict(X_test)\n",
    "    print(kernel)\n",
    "    print(classification_report(Y_test, Y_pred))\n",
    "    results[kernel] = classification_report(Y_test, Y_pred)"
   ]
  },
  {
   "cell_type": "code",
   "execution_count": null,
   "id": "d1289260-6524-4b03-a89c-76d1c594f00e",
   "metadata": {},
   "outputs": [],
   "source": []
  }
 ],
 "metadata": {
  "kernelspec": {
   "display_name": "Python 3 (ipykernel)",
   "language": "python",
   "name": "python3"
  },
  "language_info": {
   "codemirror_mode": {
    "name": "ipython",
    "version": 3
   },
   "file_extension": ".py",
   "mimetype": "text/x-python",
   "name": "python",
   "nbconvert_exporter": "python",
   "pygments_lexer": "ipython3",
   "version": "3.12.3"
  }
 },
 "nbformat": 4,
 "nbformat_minor": 5
}
