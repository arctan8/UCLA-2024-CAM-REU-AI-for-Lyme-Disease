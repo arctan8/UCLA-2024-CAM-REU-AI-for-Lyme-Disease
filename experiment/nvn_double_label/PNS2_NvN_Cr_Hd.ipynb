{
 "cells": [
  {
   "cell_type": "code",
   "execution_count": 1,
   "id": "924395ce-55e9-45a2-87a9-a338490af7b8",
   "metadata": {},
   "outputs": [],
   "source": [
    "%run ../../import_src.py\n",
    "\n",
    "import lymedata\n",
    "from lymedata import *\n",
    "import constants\n",
    "from constants import *\n",
    "\n",
    "import haddock_ssnmf\n",
    "from haddock_ssnmf import Haddock_SSNMF\n",
    "\n",
    "import display_ssnmf\n",
    "from display_ssnmf import *\n"
   ]
  },
  {
   "cell_type": "code",
   "execution_count": null,
   "id": "31a65e74-34e4-4b52-8be0-aa5b79c93b34",
   "metadata": {},
   "outputs": [
    {
     "name": "stderr",
     "output_type": "stream",
     "text": [
      "/home/reu24lyme/alex/code_lib/src/lymedata.py:75: DtypeWarning: Columns (224,249,259,269,274,294,299,304,309,339,344,365,369,373,377,395,399,403,411,415,419,423,435) have mixed types. Specify dtype option on import or set low_memory=False.\n",
      "  df = pd.read_csv(csv_file)\n"
     ]
    },
    {
     "name": "stdout",
     "output_type": "stream",
     "text": [
      "Both Neuro and Mus: 1898\n",
      "Only Neuro: 577\n",
      "Only Mus: 794\n",
      "Neither Neuro nor Mus: 694\n",
      "Dropping 99\n",
      "(878, 29)\n",
      "Index(['recall a tick bite', 'length of time noticed tick bite',\n",
      "       'treated with antibiotics', 'length of time treated for tick bite',\n",
      "       'period of time for diagnosis', 'misdiagnosis', 'tick born coinfection',\n",
      "       'Babesia', 'Bartonella', 'Ehrlichia/ Anaplasma', 'Mycoplasma',\n",
      "       'Rickettsia', 'Bio Sex', 'Antibiotics', 'Times Infected', 'GROC',\n",
      "       'Bed Days', 'Mental Health Days', 'Physical Health Days', 'Disability',\n",
      "       'general practitioner', 'infectious disease specialist', 'internist',\n",
      "       'lyme specialist', 'other doctor', 'pediatrician', 'rheumatologist',\n",
      "       'non_neuro', 'neuro'],\n",
      "      dtype='object')\n"
     ]
    }
   ],
   "source": [
    "# PNS2 Defn\n",
    "data = LymeData({CHRONIC, NEURO},{ADDL_CIR, DIAG_CIR, CATG},{NEURO, NON_NEURO}, defn=DEF_PNS2, drop_99=True)\n",
    "print(data.df.shape)\n",
    "print(data.df.columns)\n",
    "\n",
    "data_matrix, label_matrix = data.get_data_and_labels()\n",
    "\n",
    "ssnmf = Haddock_SSNMF(data_matrix, label_matrix)\n",
    "best_accuracy, best_params = ssnmf.gridsearch()\n",
    "print('PNS1 Working Definition: Neuro vs Non-Neuro')\n",
    "print('best accuracy: ', best_accuracy, ' best params: ', best_params)\n",
    "test_accuracy = ssnmf.test(best_params)\n",
    "print('test_accuracy: ', test_accuracy)\n",
    "\n",
    "names = ADDL_CIR + \" \"+ DIAG_CIR + \" \" + CATG\n",
    "labels = [x for x in data.df.columns if x not in [NEURO, NON_NEURO]]\n",
    "best_model = ssnmf.best_model\n",
    "display_ssnmf(model=best_model, feature_name=names, feature_labels=labels, class_labels=data.labels)\n",
    "\n",
    "# Total Neuro: 2475"
   ]
  },
  {
   "cell_type": "code",
   "execution_count": null,
   "id": "f66d5efb-3469-4205-95a5-827963b2c940",
   "metadata": {},
   "outputs": [],
   "source": []
  }
 ],
 "metadata": {
  "kernelspec": {
   "display_name": "Python 3 (ipykernel)",
   "language": "python",
   "name": "python3"
  },
  "language_info": {
   "codemirror_mode": {
    "name": "ipython",
    "version": 3
   },
   "file_extension": ".py",
   "mimetype": "text/x-python",
   "name": "python",
   "nbconvert_exporter": "python",
   "pygments_lexer": "ipython3",
   "version": "3.12.3"
  }
 },
 "nbformat": 4,
 "nbformat_minor": 5
}
