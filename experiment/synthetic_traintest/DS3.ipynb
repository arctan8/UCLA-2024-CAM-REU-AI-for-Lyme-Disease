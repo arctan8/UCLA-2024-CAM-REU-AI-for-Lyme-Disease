{
 "cells": [
  {
   "cell_type": "code",
   "execution_count": 1,
   "id": "0bff72c2-3c5d-47e3-ab46-5518794ad412",
   "metadata": {},
   "outputs": [],
   "source": [
    "%run ../../import_src.py\n",
    "\n",
    "import generate_traintest\n",
    "from generate_traintest import *"
   ]
  },
  {
   "cell_type": "code",
   "execution_count": 2,
   "id": "c9babdda-9a51-4cc2-8367-25304dfef677",
   "metadata": {},
   "outputs": [],
   "source": [
    "# Create Dataset of 2500 data points, 20% test size\n",
    "# Training set similar to testing set (same labels)\n",
    "# Even distribution of labels 0 and 1\n",
    "\n",
    "# Train Labels Totally Different from Test Labels\n",
    "# Train Labels:\n",
    "# Label 0: 30% feature 0, 30% feature 1, 30% feature 2\n",
    "# Label 1: 30% feature 3, 30% feature 4, 30% feature 5\n",
    "# Test Labels:\n",
    "# Label 0: 30% feature 6, 30% feature 7, 30% feature 8\n",
    "# Label 1: 30% feature 9, 30% feature 10, 30% feature 11\n",
    "\n",
    "# 30% of data is randomly generated in train, 30% in test\n",
    "gen = GenerateTrainTest(total_samples=2500, test_size=0.2, n_features=20, n_labels=2, shuffle=True)\n",
    "label_distr = {0: 0.5, 1:0.5}\n",
    "train_label_features = {0: {0: 0.3, 1: 0.3, 2: 0.3},\n",
    "              1: {3: 0.3, 4: 0.3, 5: 0.3}}\n",
    "\n",
    "test_label_features = {0: {6: 0.3, 7: 0.3, 8: 0.3},\n",
    "              1: {9: 0.3, 10: 0.3, 11: 0.3}}\n",
    "X_train, X_test, Y_train, Y_test = gen.generateTrainTest(label_distr, train_label_features=train_label_features, test_label_features=test_label_features, train_random_size=0.3, test_random_size=0.3)\n",
    "\n",
    "X, Y, train_indices, test_indices = gen.getTrainTestIndices()\n",
    "np.savez('dataset3.npz', X_train=X_train, X_test=X_test, Y_train=Y_train, Y_test=Y_test,\n",
    "         X=X, Y=Y, train_indices=train_indices, test_indices=test_indices)\n"
   ]
  },
  {
   "cell_type": "code",
   "execution_count": null,
   "id": "1a521c7d-9a80-4afe-8a63-08637fa9c803",
   "metadata": {},
   "outputs": [],
   "source": []
  }
 ],
 "metadata": {
  "kernelspec": {
   "display_name": "Python 3 (ipykernel)",
   "language": "python",
   "name": "python3"
  },
  "language_info": {
   "codemirror_mode": {
    "name": "ipython",
    "version": 3
   },
   "file_extension": ".py",
   "mimetype": "text/x-python",
   "name": "python",
   "nbconvert_exporter": "python",
   "pygments_lexer": "ipython3",
   "version": "3.12.3"
  }
 },
 "nbformat": 4,
 "nbformat_minor": 5
}
