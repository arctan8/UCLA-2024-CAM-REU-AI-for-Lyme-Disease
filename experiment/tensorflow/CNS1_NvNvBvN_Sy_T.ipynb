{
 "cells": [
  {
   "cell_type": "code",
   "execution_count": 16,
   "id": "acbd9a26-f82a-41f3-b022-6b2dabd93218",
   "metadata": {},
   "outputs": [],
   "source": [
    "%run ../../import_src.py\n",
    "\n",
    "import lymedata\n",
    "from lymedata import *\n",
    "import constants\n",
    "from constants import *\n",
    "\n",
    "import tensorflow as tf\n",
    "from tensorflow import keras\n",
    "from keras import layers\n",
    "\n",
    "from sklearn.metrics import accuracy_score\n",
    "from sklearn.model_selection import train_test_split"
   ]
  },
  {
   "cell_type": "code",
   "execution_count": 17,
   "id": "560ad615-dbee-4eba-bb23-ae1afc7b6a56",
   "metadata": {},
   "outputs": [
    {
     "name": "stderr",
     "output_type": "stream",
     "text": [
      "/home/reu24lyme/alex/code_lib/src/lymedata.py:74: DtypeWarning: Columns (224,249,259,269,274,294,299,304,309,339,344,365,369,373,377,395,399,403,411,415,419,423,435) have mixed types. Specify dtype option on import or set low_memory=False.\n",
      "  df = pd.read_csv(csv_file)\n"
     ]
    },
    {
     "name": "stdout",
     "output_type": "stream",
     "text": [
      "Both Neuro and Mus: 2259\n",
      "Only Neuro: 310\n",
      "Only Mus: 762\n",
      "Neither Neuro nor Mus: 632\n",
      "Dropping 99\n",
      "(3598, 16)\n",
      "Index(['Fatigue', 'Headache', 'Joint Pain', 'Muscle aches', 'Neuropathy',\n",
      "       'Twitching', 'Memory Loss', 'Cognitive Impairment', 'Sleep Impairment',\n",
      "       'Psychiatric', 'Heart related', 'Gastrointestinal', 'both', 'neuro',\n",
      "       'neither', 'musculo'],\n",
      "      dtype='object')\n",
      "(2878, 12)\n",
      "(720, 12)\n",
      "(2878, 4)\n",
      "(720, 4)\n",
      "Epoch 1/10\n"
     ]
    },
    {
     "name": "stderr",
     "output_type": "stream",
     "text": [
      "/home/reu24lyme/miniconda3/lib/python3.12/site-packages/keras/src/layers/core/dense.py:87: UserWarning: Do not pass an `input_shape`/`input_dim` argument to a layer. When using Sequential models, prefer using an `Input(shape)` object as the first layer in the model instead.\n",
      "  super().__init__(activity_regularizer=activity_regularizer, **kwargs)\n"
     ]
    },
    {
     "name": "stdout",
     "output_type": "stream",
     "text": [
      "\u001b[1m90/90\u001b[0m \u001b[32m━━━━━━━━━━━━━━━━━━━━\u001b[0m\u001b[37m\u001b[0m \u001b[1m3s\u001b[0m 14ms/step - accuracy: 0.5536 - loss: 1.0505\n",
      "Epoch 2/10\n",
      "\u001b[1m90/90\u001b[0m \u001b[32m━━━━━━━━━━━━━━━━━━━━\u001b[0m\u001b[37m\u001b[0m \u001b[1m0s\u001b[0m 2ms/step - accuracy: 0.7884 - loss: 0.5187\n",
      "Epoch 3/10\n",
      "\u001b[1m90/90\u001b[0m \u001b[32m━━━━━━━━━━━━━━━━━━━━\u001b[0m\u001b[37m\u001b[0m \u001b[1m0s\u001b[0m 2ms/step - accuracy: 0.8241 - loss: 0.4228\n",
      "Epoch 4/10\n",
      "\u001b[1m90/90\u001b[0m \u001b[32m━━━━━━━━━━━━━━━━━━━━\u001b[0m\u001b[37m\u001b[0m \u001b[1m0s\u001b[0m 2ms/step - accuracy: 0.8356 - loss: 0.3824\n",
      "Epoch 5/10\n",
      "\u001b[1m90/90\u001b[0m \u001b[32m━━━━━━━━━━━━━━━━━━━━\u001b[0m\u001b[37m\u001b[0m \u001b[1m0s\u001b[0m 3ms/step - accuracy: 0.8525 - loss: 0.3493\n",
      "Epoch 6/10\n",
      "\u001b[1m90/90\u001b[0m \u001b[32m━━━━━━━━━━━━━━━━━━━━\u001b[0m\u001b[37m\u001b[0m \u001b[1m0s\u001b[0m 2ms/step - accuracy: 0.8579 - loss: 0.3514\n",
      "Epoch 7/10\n",
      "\u001b[1m90/90\u001b[0m \u001b[32m━━━━━━━━━━━━━━━━━━━━\u001b[0m\u001b[37m\u001b[0m \u001b[1m0s\u001b[0m 2ms/step - accuracy: 0.8556 - loss: 0.3388\n",
      "Epoch 8/10\n",
      "\u001b[1m90/90\u001b[0m \u001b[32m━━━━━━━━━━━━━━━━━━━━\u001b[0m\u001b[37m\u001b[0m \u001b[1m0s\u001b[0m 2ms/step - accuracy: 0.8769 - loss: 0.2922\n",
      "Epoch 9/10\n",
      "\u001b[1m90/90\u001b[0m \u001b[32m━━━━━━━━━━━━━━━━━━━━\u001b[0m\u001b[37m\u001b[0m \u001b[1m0s\u001b[0m 2ms/step - accuracy: 0.8848 - loss: 0.2773\n",
      "Epoch 10/10\n",
      "\u001b[1m90/90\u001b[0m \u001b[32m━━━━━━━━━━━━━━━━━━━━\u001b[0m\u001b[37m\u001b[0m \u001b[1m0s\u001b[0m 2ms/step - accuracy: 0.8967 - loss: 0.2648\n",
      "\u001b[1m23/23\u001b[0m \u001b[32m━━━━━━━━━━━━━━━━━━━━\u001b[0m\u001b[37m\u001b[0m \u001b[1m0s\u001b[0m 9ms/step\n",
      "[0 0 3 3 3 0 0 3 1 0 3 2 3 1 0 0 0 0 3 0 0 3 3 0 0 0 3 0 0 0 2 0 0 3 0 0 0\n",
      " 0 3 0 3 0 0 0 0 0 0 0 0 0 3 0 0 1 0 3 3 3 0 0 3 0 0 3 3 0 3 0 0 0 0 3 3 0\n",
      " 0 0 0 1 0 0 0 0 0 3 0 3 3 2 3 1 3 0 0 0 0 0 0 3 0 0 0 0 3 0 0 0 0 3 1 0 0\n",
      " 0 0 0 0 0 0 3 0 3 0 0 3 3 0 0 0 0 3 0 0 0 0 0 3 0 0 2 0 0 3 0 3 0 1 1 0 0\n",
      " 0 3 3 0 3 0 0 0 3 0 0 3 3 0 3 3 3 3 0 3 0 0 0 0 0 3 3 0 3 3 0 0 3 0 0 0 0\n",
      " 0 3 0 0 3 0 0 3 0 0 0 1 0 0 0 1 0 0 0 1 0 0 0 3 3 1 3 0 2 0 3 0 2 0 3 0 0\n",
      " 0 3 0 0 0 3 3 0 0 0 0 0 0 3 0 3 3 0 0 3 0 3 0 0 0 1 0 0 0 0 0 0 0 3 3 0 1\n",
      " 0 3 0 0 0 0 3 3 0 3 0 0 0 0 2 0 3 0 0 0 0 0 0 1 3 0 0 0 0 0 0 3 0 2 0 0 0\n",
      " 0 3 0 3 1 0 0 3 0 0 0 0 0 0 0 2 2 0 0 0 0 2 0 0 3 3 3 0 0 2 0 0 0 0 0 0 0\n",
      " 0 0 3 0 0 0 3 3 3 3 0 3 0 3 0 1 0 0 0 0 0 0 3 3 0 0 0 3 0 0 3 0 0 2 3 3 0\n",
      " 0 3 3 0 0 1 0 3 3 0 2 0 3 0 1 0 3 0 0 3 0 3 0 0 0 0 3 1 3 0 3 0 3 3 0 0 0\n",
      " 1 0 0 0 3 0 0 0 3 0 1 3 0 0 0 0 0 2 0 0 0 3 0 3 0 0 0 1 0 0 0 3 0 0 3 0 0\n",
      " 3 1 0 0 0 3 2 0 3 3 3 1 0 0 0 0 0 1 0 3 0 3 0 0 0 0 3 3 0 0 0 0 0 3 2 0 0\n",
      " 0 3 3 0 0 3 0 0 0 0 0 3 0 2 1 0 0 0 0 0 0 1 0 0 3 3 0 3 3 3 0 0 0 0 1 3 2\n",
      " 0 0 0 3 0 0 0 0 0 3 3 0 0 0 3 0 0 3 0 3 0 0 3 0 3 0 3 0 0 3 0 0 0 3 0 0 0\n",
      " 3 0 0 0 1 3 0 0 3 0 0 0 2 0 0 0 0 3 0 0 3 0 0 3 3 0 0 0 0 0 0 1 1 0 0 3 0\n",
      " 0 0 0 0 0 3 3 0 2 3 0 2 3 0 0 3 0 3 0 0 0 0 0 1 3 0 0 0 0 1 2 3 1 3 0 0 0\n",
      " 0 0 0 0 3 3 2 0 0 0 0 2 0 3 0 0 0 2 0 0 0 0 0 0 0 0 3 0 3 0 1 0 0 0 0 0 0\n",
      " 0 0 0 0 0 3 3 0 0 3 0 2 0 0 0 0 1 0 0 3 0 1 0 0 0 0 0 0 3 0 3 3 0 0 0 1 3\n",
      " 0 3 0 1 0 3 2 2 0 1 0 0 0 3 1 3 0]\n",
      "Accuracy: 0.8792\n"
     ]
    }
   ],
   "source": [
    "data = LymeData({CHRONIC, NEURO, MUSCULO},{SYMPTOMS},{NEURO, MUSCULO, BOTH, NEITHER}, defn=DEF_CNS1, drop_99=True)\n",
    "print(data.df.shape)\n",
    "print(data.df.columns)\n",
    "\n",
    "X, Y = data.get_data_and_labels()\n",
    "X_train, X_test, Y_train, Y_test = train_test_split(X, Y, test_size=0.2, random_state=42)\n",
    "\n",
    "for arr in [X_train, X_test, Y_train, Y_test]:\n",
    "    print(arr.shape)\n",
    "# Results of shape:\n",
    "# (2878, 12)\n",
    "# (720, 12)\n",
    "# (2878, 4)\n",
    "# (720, 4)\n",
    "num_train_labels = X_train.shape[1]\n",
    "\n",
    "# automatically one-hot-encoded\n",
    "model = keras.Sequential([\n",
    "    layers.Dense(64, activation='relu', input_shape=(num_train_labels, )),\n",
    "    layers.Dense(32, activation='relu'),\n",
    "    layers.Dense(4, activation='softmax')\n",
    "])\n",
    "\n",
    "model.compile(optimizer='adam', loss='categorical_crossentropy', metrics=['accuracy'])\n",
    "model.fit(X_train,Y_train, epochs=10, batch_size=32)\n",
    "\n",
    "pred = model.predict(X_test)\n",
    "\n",
    "Y_pred = np.argmax(pred, axis=1)\n",
    "Y_true = np.argmax(Y_test, axis=1)\n",
    "\n",
    "accuracy = accuracy_score(Y_true, Y_pred)\n",
    "print(Y_pred)\n",
    "print(f'Accuracy: {accuracy:.4f}')\n"
   ]
  },
  {
   "cell_type": "code",
   "execution_count": null,
   "id": "5a4da752-15e1-4a27-b594-d459dd489cf3",
   "metadata": {},
   "outputs": [],
   "source": []
  }
 ],
 "metadata": {
  "kernelspec": {
   "display_name": "Python 3 (ipykernel)",
   "language": "python",
   "name": "python3"
  },
  "language_info": {
   "codemirror_mode": {
    "name": "ipython",
    "version": 3
   },
   "file_extension": ".py",
   "mimetype": "text/x-python",
   "name": "python",
   "nbconvert_exporter": "python",
   "pygments_lexer": "ipython3",
   "version": "3.12.3"
  }
 },
 "nbformat": 4,
 "nbformat_minor": 5
}
