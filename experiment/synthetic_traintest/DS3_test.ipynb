{
 "cells": [
  {
   "cell_type": "code",
   "execution_count": null,
   "id": "f0ee63a4-85de-494f-b387-83260ff8b934",
   "metadata": {},
   "outputs": [],
   "source": [
    "%run ../../import_src.py\n",
    "\n",
    "import lymedata\n",
    "from lymedata import *\n",
    "import constants\n",
    "from constants import *\n",
    "\n",
    "import needell_ssnmf\n",
    "from needell_ssnmf import Needell_SSNMF\n",
    "\n",
    "import haddock_ssnmf\n",
    "from haddock_ssnmf import Haddock_SSNMF\n",
    "\n",
    "import display_ssnmf\n",
    "from display_ssnmf import *"
   ]
  },
  {
   "cell_type": "code",
   "execution_count": null,
   "id": "d744303f-2e95-4d87-bd78-5a1e2372672e",
   "metadata": {},
   "outputs": [],
   "source": [
    "data = np.load('dataset3.npz')\n",
    "X = data['X']\n",
    "Y = data['Y']\n",
    "train_indices = data['train_indices']\n",
    "test_indices = data['test_indices']\n",
    "\n",
    "print(train_indices)\n",
    "# ssnmf = Needell_SSNMF(X,Y, split_train_test=False, train_indices=train_indices, test_indices=test_indices)\n",
    "\n",
    "X_train = data['X_train']\n",
    "Y_train = data['Y_train']\n",
    "X_test = data['X_test']\n",
    "Y_test = data['Y_test']\n",
    "\n"
   ]
  }
 ],
 "metadata": {
  "kernelspec": {
   "display_name": "Python 3 (ipykernel)",
   "language": "python",
   "name": "python3"
  },
  "language_info": {
   "codemirror_mode": {
    "name": "ipython",
    "version": 3
   },
   "file_extension": ".py",
   "mimetype": "text/x-python",
   "name": "python",
   "nbconvert_exporter": "python",
   "pygments_lexer": "ipython3",
   "version": "3.12.3"
  }
 },
 "nbformat": 4,
 "nbformat_minor": 5
}
