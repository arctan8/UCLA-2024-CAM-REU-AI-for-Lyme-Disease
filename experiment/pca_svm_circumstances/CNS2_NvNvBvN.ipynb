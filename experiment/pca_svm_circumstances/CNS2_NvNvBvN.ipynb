{
 "cells": [
  {
   "cell_type": "code",
   "execution_count": 1,
   "id": "f4756ad8-f238-499c-8c48-44ceeac21389",
   "metadata": {},
   "outputs": [],
   "source": [
    "%run ../../import_src.py\n",
    "\n",
    "import lymedata\n",
    "from lymedata import *\n",
    "import constants\n",
    "from constants import *\n",
    "\n",
    "from sklearn.decomposition import PCA\n",
    "from sklearn.preprocessing import StandardScaler\n",
    "from sklearn.multiclass import OneVsRestClassifier\n",
    "from sklearn.model_selection import train_test_split\n",
    "\n",
    "from sklearn.svm import SVC\n",
    "from sklearn.metrics import classification_report"
   ]
  },
  {
   "cell_type": "code",
   "execution_count": 4,
   "id": "1625a9d4-1b25-48c1-863a-2013a9fb4d01",
   "metadata": {},
   "outputs": [
    {
     "name": "stderr",
     "output_type": "stream",
     "text": [
      "/home/reu24lyme/alex/code_lib/src/lymedata.py:74: DtypeWarning: Columns (224,249,259,269,274,294,299,304,309,339,344,365,369,373,377,395,399,403,411,415,419,423,435) have mixed types. Specify dtype option on import or set low_memory=False.\n",
      "  df = pd.read_csv(csv_file)\n"
     ]
    },
    {
     "name": "stdout",
     "output_type": "stream",
     "text": [
      "Both Neuro and Mus: 1862\n",
      "Only Neuro: 707\n",
      "Only Mus: 762\n",
      "Neither Neuro nor Mus: 632\n",
      "Dropping 99\n",
      "(878, 31)\n",
      "Index(['recall a tick bite', 'length of time noticed tick bite',\n",
      "       'treated with antibiotics', 'length of time treated for tick bite',\n",
      "       'period of time for diagnosis', 'misdiagnosis', 'tick born coinfection',\n",
      "       'Babesia', 'Bartonella', 'Ehrlichia/ Anaplasma', 'Mycoplasma',\n",
      "       'Rickettsia', 'Bio Sex', 'Antibiotics', 'Times Infected', 'GROC',\n",
      "       'Bed Days', 'Mental Health Days', 'Physical Health Days', 'Disability',\n",
      "       'general practitioner', 'infectious disease specialist', 'internist',\n",
      "       'lyme specialist', 'other doctor', 'pediatrician', 'rheumatologist',\n",
      "       'neither', 'both', 'neuro', 'musculo'],\n",
      "      dtype='object')\n",
      "Original feature space: (878, 27)\n",
      "Reduced feature space: (878, 2)\n",
      "              precision    recall  f1-score   support\n",
      "\n",
      "           0       0.00      0.00      0.00        23\n",
      "           1       0.70      0.57      0.63        84\n",
      "           2       0.00      0.00      0.00        26\n",
      "           3       0.00      0.00      0.00        43\n",
      "\n",
      "   micro avg       0.70      0.27      0.39       176\n",
      "   macro avg       0.17      0.14      0.16       176\n",
      "weighted avg       0.33      0.27      0.30       176\n",
      " samples avg       0.27      0.27      0.27       176\n",
      "\n"
     ]
    },
    {
     "name": "stderr",
     "output_type": "stream",
     "text": [
      "/home/reu24lyme/miniconda3/lib/python3.12/site-packages/sklearn/metrics/_classification.py:1531: UndefinedMetricWarning: Precision is ill-defined and being set to 0.0 in labels with no predicted samples. Use `zero_division` parameter to control this behavior.\n",
      "  _warn_prf(average, modifier, f\"{metric.capitalize()} is\", len(result))\n",
      "/home/reu24lyme/miniconda3/lib/python3.12/site-packages/sklearn/metrics/_classification.py:1531: UndefinedMetricWarning: Precision is ill-defined and being set to 0.0 in samples with no predicted labels. Use `zero_division` parameter to control this behavior.\n",
      "  _warn_prf(average, modifier, f\"{metric.capitalize()} is\", len(result))\n"
     ]
    }
   ],
   "source": [
    "data = LymeData({CHRONIC, NEURO, MUSCULO},{ADDL_CIR, DIAG_CIR, CATG},{NEURO, MUSCULO, BOTH, NEITHER}, defn=DEF_CNS2, drop_99=True)\n",
    "print(data.df.shape)\n",
    "print(data.df.columns)\n",
    "\n",
    "X, Y = data.get_data_and_labels()\n",
    "\n",
    "scaler = StandardScaler()\n",
    "X_scaled = scaler.fit_transform(X)\n",
    "pca = PCA(n_components=2)\n",
    "X_pca = pca.fit_transform(X_scaled)\n",
    "\n",
    "print(f\"Original feature space: {X.shape}\")\n",
    "print(f\"Reduced feature space: {X_pca.shape}\")\n",
    "\n",
    "X_train, X_test, Y_train, Y_test = train_test_split(X_pca, Y, test_size=0.2, random_state=42)\n",
    "\n",
    "classifier = OneVsRestClassifier(SVC(kernel=\"rbf\", probability=True))\n",
    "# classifier = OneVsRestClassifier(SVC(kernel=\"linear\", probability=True))\n",
    "classifier.fit(X_train, Y_train)\n",
    "\n",
    "Y_pred = classifier.predict(X_test)\n",
    "print(classification_report(Y_test, Y_pred))"
   ]
  },
  {
   "cell_type": "code",
   "execution_count": 3,
   "id": "f3d48e8f-c268-4043-a224-c6f2fc568a19",
   "metadata": {},
   "outputs": [
    {
     "name": "stderr",
     "output_type": "stream",
     "text": [
      "/home/reu24lyme/alex/code_lib/src/lymedata.py:74: DtypeWarning: Columns (224,249,259,269,274,294,299,304,309,339,344,365,369,373,377,395,399,403,411,415,419,423,435) have mixed types. Specify dtype option on import or set low_memory=False.\n",
      "  df = pd.read_csv(csv_file)\n"
     ]
    },
    {
     "name": "stdout",
     "output_type": "stream",
     "text": [
      "Both Neuro and Mus: 1862\n",
      "Only Neuro: 707\n",
      "Only Mus: 762\n",
      "Neither Neuro nor Mus: 632\n",
      "Dropping 99\n",
      "(3598, 16)\n",
      "Index(['Fatigue', 'Headache', 'Joint Pain', 'Muscle aches', 'Neuropathy',\n",
      "       'Twitching', 'Memory Loss', 'Cognitive Impairment', 'Sleep Impairment',\n",
      "       'Psychiatric', 'Heart related', 'Gastrointestinal', 'neither', 'both',\n",
      "       'neuro', 'musculo'],\n",
      "      dtype='object')\n",
      "Original feature space: (3598, 12)\n",
      "Reduced feature space: (3598, 2)\n",
      "              precision    recall  f1-score   support\n",
      "\n",
      "           0       0.80      0.48      0.60        58\n",
      "           1       0.85      0.84      0.85       365\n",
      "           2       0.70      0.55      0.62       137\n",
      "           3       0.78      0.69      0.74       160\n",
      "\n",
      "   micro avg       0.81      0.72      0.76       720\n",
      "   macro avg       0.78      0.64      0.70       720\n",
      "weighted avg       0.80      0.72      0.76       720\n",
      " samples avg       0.72      0.72      0.72       720\n",
      "\n"
     ]
    },
    {
     "name": "stderr",
     "output_type": "stream",
     "text": [
      "/home/reu24lyme/miniconda3/lib/python3.12/site-packages/sklearn/metrics/_classification.py:1531: UndefinedMetricWarning: Precision is ill-defined and being set to 0.0 in samples with no predicted labels. Use `zero_division` parameter to control this behavior.\n",
      "  _warn_prf(average, modifier, f\"{metric.capitalize()} is\", len(result))\n"
     ]
    }
   ],
   "source": [
    "data = LymeData({CHRONIC, NEURO, MUSCULO},{SYMPTOMS},{NEURO, MUSCULO, BOTH, NEITHER}, defn=DEF_CNS2, drop_99=True)\n",
    "print(data.df.shape)\n",
    "print(data.df.columns)\n",
    "\n",
    "X, Y = data.get_data_and_labels()\n",
    "\n",
    "scaler = StandardScaler()\n",
    "X_scaled = scaler.fit_transform(X)\n",
    "pca = PCA(n_components=2)\n",
    "X_pca = pca.fit_transform(X_scaled)\n",
    "\n",
    "print(f\"Original feature space: {X.shape}\")\n",
    "print(f\"Reduced feature space: {X_pca.shape}\")\n",
    "\n",
    "X_train, X_test, Y_train, Y_test = train_test_split(X_pca, Y, test_size=0.2, random_state=42)\n",
    "\n",
    "# classifier = OneVsRestClassifier(SVC(kernel=\"rbf\", probability=True))\n",
    "classifier = OneVsRestClassifier(SVC(kernel=\"rbf\", probability=True))\n",
    "classifier.fit(X_train, Y_train)\n",
    "\n",
    "Y_pred = classifier.predict(X_test)\n",
    "print(classification_report(Y_test, Y_pred))"
   ]
  },
  {
   "cell_type": "code",
   "execution_count": null,
   "id": "dede69c3-6e12-4479-b96d-937d891987d1",
   "metadata": {},
   "outputs": [],
   "source": []
  }
 ],
 "metadata": {
  "kernelspec": {
   "display_name": "Python 3 (ipykernel)",
   "language": "python",
   "name": "python3"
  },
  "language_info": {
   "codemirror_mode": {
    "name": "ipython",
    "version": 3
   },
   "file_extension": ".py",
   "mimetype": "text/x-python",
   "name": "python",
   "nbconvert_exporter": "python",
   "pygments_lexer": "ipython3",
   "version": "3.12.3"
  }
 },
 "nbformat": 4,
 "nbformat_minor": 5
}
