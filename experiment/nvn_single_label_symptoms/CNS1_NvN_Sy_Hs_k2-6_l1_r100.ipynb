{
 "cells": [
  {
   "cell_type": "code",
   "execution_count": null,
   "id": "924395ce-55e9-45a2-87a9-a338490af7b8",
   "metadata": {},
   "outputs": [],
   "source": [
    "%run ../../import_src.py\n",
    "\n",
    "import lymedata\n",
    "from lymedata import *\n",
    "import constants\n",
    "from constants import *\n",
    "\n",
    "import haddock_ssnmf\n",
    "from haddock_ssnmf import Haddock_SSNMF\n",
    "\n",
    "import display_ssnmf\n",
    "from display_ssnmf import *\n"
   ]
  },
  {
   "cell_type": "code",
   "execution_count": null,
   "id": "31a65e74-34e4-4b52-8be0-aa5b79c93b34",
   "metadata": {},
   "outputs": [],
   "source": [
    "# CNS1 Defn, SYMPTOMS\n",
    "\n",
    "data = LymeData({CHRONIC, NEURO},{SYMPTOMS},{NEURO, NON_NEURO}, defn=DEF_CNS1, drop_99=True)\n",
    "data.drop_one_label(NON_NEURO) # SINGLE LABEL\n",
    "\n",
    "print(data.df.shape)\n",
    "print(data.df.columns)\n",
    "\n",
    "data_matrix, label_matrix = data.get_data_and_labels()\n",
    "\n",
    "ssnmf = Haddock_SSNMF(data_matrix, label_matrix)\n",
    "best_accuracy, best_params, accu_distr, Xreconerr_distr, Yreconerr_distr, Xtestreconerr_distr = ssnmf.gridsearch(param_range={'k': range(2,7),'lambda': list(np.linspace(0,1,100)), 'random_state': range(0,100)},\n",
    "                                                          get_topic_accu_distr=True, get_reconerr_distr=True)\n"
   ]
  },
  {
   "cell_type": "code",
   "execution_count": null,
   "id": "224f7f05-3749-4122-8467-b6c10c6e48e6",
   "metadata": {},
   "outputs": [],
   "source": [
    "\n",
    "display_distr(accu_distr)\n",
    "display_distr(Xreconerr_distr, ylabel='||X-AS|| reconerrs')\n",
    "display_distr(Yreconerr_distr, ylabel='||Y-BS|| reconerrs')\n",
    "display_distr(Xtestreconerr_distr, ylabel='||X_test-AS|| reconerrs')\n",
    "\n",
    "print('CNS1 Working Definition: Neuro vs Non-Neuro')\n",
    "print('best accuracy: ', best_accuracy, ' best params: ', best_params)\n",
    "test_accuracy = ssnmf.test(best_params)\n",
    "print('test_accuracy: ', test_accuracy)\n",
    "\n",
    "names = SYMPTOMS\n",
    "labels = [x for x in data.df.columns if x not in [NEURO, NON_NEURO]]\n",
    "best_model = ssnmf.best_model\n",
    "display_ssnmf(model=best_model, feature_name=names, feature_labels=labels, class_labels=data.labels)\n",
    "\n",
    "# Total Neuro: 2569\n",
    "# Total Non-Neuro: 1394"
   ]
  },
  {
   "cell_type": "code",
   "execution_count": null,
   "id": "451fc992-7cb7-4a1f-a5e1-0c42fb9ebda3",
   "metadata": {},
   "outputs": [],
   "source": [
    "accu_distr.to_csv('CNS1_NvN_Sy_Hs_k2-6_l1_r100_Accu.csv', index=False)\n",
    "Xreconerr_distr.to_csv('CNS1_NvN_Sy_Hs_k2-6_l1_r100_Xrec.csv', index=False)\n",
    "Yreconerr_distr.to_csv('CNS1_NvN_Sy_Hs_k2-6_l1_r100_Yrec.csv', index=False)\n",
    "Xtestreconerr_distr.to_csv('CNS1_NvN_Sy_Hs_k2-6_l1_r100_XCVrec.csv', index=False)"
   ]
  },
  {
   "cell_type": "code",
   "execution_count": null,
   "id": "f4c8f2d4-38ba-4754-be4d-8db37a72577b",
   "metadata": {},
   "outputs": [],
   "source": [
    "# Accuracy distribution statistics\n",
    "mean = accu_distr.mean()\n",
    "Q1 = accu_distr.quantile(0.25)\n",
    "Q3 = accu_distr.quantile(0.75)\n",
    "print('Mean Accuracy:')\n",
    "print(mean)\n",
    "print('IQR:')\n",
    "print(Q3 - Q1)"
   ]
  },
  {
   "cell_type": "code",
   "execution_count": null,
   "id": "ea035658-f305-484b-ae5c-8afda678c62f",
   "metadata": {},
   "outputs": [],
   "source": [
    "# Xreconerr distribution statistics\n",
    "mean = Xreconerr_distr.mean()\n",
    "Q1 = Xreconerr_distr.quantile(0.25)\n",
    "Q3 = Xreconerr_distr.quantile(0.75)\n",
    "print('Mean Xreconerr_distr:')\n",
    "print(mean)\n",
    "print('IQR:')\n",
    "print(Q3 - Q1)"
   ]
  },
  {
   "cell_type": "code",
   "execution_count": null,
   "id": "51c404bf-751c-42de-ba99-5770fbc8897a",
   "metadata": {},
   "outputs": [],
   "source": [
    "# Yreconerr distribution statistics\n",
    "mean = Yreconerr_distr.mean()\n",
    "Q1 = Yreconerr_distr.quantile(0.25)\n",
    "Q3 = Yreconerr_distr.quantile(0.75)\n",
    "print('Mean Yreconerr_distr:')\n",
    "print(mean)\n",
    "print('IQR:')\n",
    "print(Q3 - Q1)"
   ]
  },
  {
   "cell_type": "code",
   "execution_count": null,
   "id": "dd6e78b9-1a77-4b02-aecd-d89b7678502c",
   "metadata": {},
   "outputs": [],
   "source": [
    "# Yreconerr distribution statistics\n",
    "mean = Xtestreconerr_distr.mean()\n",
    "Q1 = Xtestreconerr_distr.quantile(0.25)\n",
    "Q3 = Xtestreconerr_distr.quantile(0.75)\n",
    "print('Mean Yreconerr_distr:')\n",
    "print(mean)\n",
    "print('IQR:')\n",
    "print(Q3 - Q1)"
   ]
  },
  {
   "cell_type": "code",
   "execution_count": null,
   "id": "09cb18ca-2007-474c-b3ff-4d9bf4ddd80e",
   "metadata": {},
   "outputs": [],
   "source": []
  }
 ],
 "metadata": {
  "kernelspec": {
   "display_name": "Python 3 (ipykernel)",
   "language": "python",
   "name": "python3"
  },
  "language_info": {
   "codemirror_mode": {
    "name": "ipython",
    "version": 3
   },
   "file_extension": ".py",
   "mimetype": "text/x-python",
   "name": "python",
   "nbconvert_exporter": "python",
   "pygments_lexer": "ipython3",
   "version": "3.12.3"
  }
 },
 "nbformat": 4,
 "nbformat_minor": 5
}
