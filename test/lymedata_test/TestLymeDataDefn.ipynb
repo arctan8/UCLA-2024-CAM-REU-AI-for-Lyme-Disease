{
 "cells": [
  {
   "cell_type": "code",
   "execution_count": 1,
   "id": "2e8d69d9-6339-44e0-b9d2-7e6058036186",
   "metadata": {},
   "outputs": [],
   "source": [
    "%run ../../import_src.py\n",
    "\n",
    "import lymedata\n",
    "from lymedata import *\n",
    "import constants\n",
    "from constants import *\n",
    "# Lymedata is bug-free as of 3-2-25"
   ]
  },
  {
   "cell_type": "code",
   "execution_count": 2,
   "id": "8e40647c-be3a-4fea-a307-d394f6bf3199",
   "metadata": {},
   "outputs": [
    {
     "name": "stderr",
     "output_type": "stream",
     "text": [
      "/home/reu24lyme/alex/code_lib/src/lymedata.py:74: DtypeWarning: Columns (224,249,259,269,274,294,299,304,309,339,344,365,369,373,377,395,399,403,411,415,419,423,435) have mixed types. Specify dtype option on import or set low_memory=False.\n",
      "  df = pd.read_csv(csv_file)\n"
     ]
    },
    {
     "name": "stdout",
     "output_type": "stream",
     "text": [
      "Both Neuro and Mus: 1562\n",
      "Only Neuro: 632\n",
      "Only Mus: 963\n",
      "Neither Neuro nor Mus: 806\n",
      "Dropping 99\n"
     ]
    }
   ],
   "source": [
    "data = LymeData({CHRONIC, NEURO, MUSCULO},{ADDL_CIR, DIAG_CIR, CATG},{NEURO, MUSCULO, BOTH, NEITHER}, defn=DEF_OWD, drop_99=True)"
   ]
  },
  {
   "cell_type": "code",
   "execution_count": 3,
   "id": "ec2ee1f3-b8d8-405a-bde8-9e91787a6623",
   "metadata": {},
   "outputs": [
    {
     "name": "stderr",
     "output_type": "stream",
     "text": [
      "/home/reu24lyme/alex/code_lib/src/lymedata.py:74: DtypeWarning: Columns (224,249,259,269,274,294,299,304,309,339,344,365,369,373,377,395,399,403,411,415,419,423,435) have mixed types. Specify dtype option on import or set low_memory=False.\n",
      "  df = pd.read_csv(csv_file)\n"
     ]
    },
    {
     "name": "stdout",
     "output_type": "stream",
     "text": [
      "Both Neuro and Mus: 2259\n",
      "Only Neuro: 310\n",
      "Only Mus: 762\n",
      "Neither Neuro nor Mus: 632\n",
      "Dropping 99\n"
     ]
    }
   ],
   "source": [
    "data = LymeData({CHRONIC, NEURO, MUSCULO},{ADDL_CIR, DIAG_CIR, CATG},{NEURO, MUSCULO, BOTH, NEITHER}, defn=DEF_CNS1, drop_99=True)"
   ]
  },
  {
   "cell_type": "code",
   "execution_count": 4,
   "id": "cf5f807d-8a3d-4ba2-af9e-409908f0b6bd",
   "metadata": {},
   "outputs": [
    {
     "name": "stderr",
     "output_type": "stream",
     "text": [
      "/home/reu24lyme/alex/code_lib/src/lymedata.py:74: DtypeWarning: Columns (224,249,259,269,274,294,299,304,309,339,344,365,369,373,377,395,399,403,411,415,419,423,435) have mixed types. Specify dtype option on import or set low_memory=False.\n",
      "  df = pd.read_csv(csv_file)\n"
     ]
    },
    {
     "name": "stdout",
     "output_type": "stream",
     "text": [
      "Both Neuro and Mus: 1862\n",
      "Only Neuro: 707\n",
      "Only Mus: 762\n",
      "Neither Neuro nor Mus: 632\n",
      "Dropping 99\n"
     ]
    }
   ],
   "source": [
    "data = LymeData({CHRONIC, NEURO, MUSCULO},{ADDL_CIR, DIAG_CIR, CATG},{NEURO, MUSCULO, BOTH, NEITHER}, defn=DEF_CNS2, drop_99=True)"
   ]
  },
  {
   "cell_type": "code",
   "execution_count": 5,
   "id": "b18dbcf4-15d2-4a9e-92cd-9b813f8a4ba6",
   "metadata": {},
   "outputs": [
    {
     "name": "stderr",
     "output_type": "stream",
     "text": [
      "/home/reu24lyme/alex/code_lib/src/lymedata.py:74: DtypeWarning: Columns (224,249,259,269,274,294,299,304,309,339,344,365,369,373,377,395,399,403,411,415,419,423,435) have mixed types. Specify dtype option on import or set low_memory=False.\n",
      "  df = pd.read_csv(csv_file)\n"
     ]
    },
    {
     "name": "stdout",
     "output_type": "stream",
     "text": [
      "Both Neuro and Mus: 1862\n",
      "Only Neuro: 707\n",
      "Only Mus: 528\n",
      "Neither Neuro nor Mus: 866\n",
      "Dropping 99\n"
     ]
    }
   ],
   "source": [
    "data = LymeData({CHRONIC, NEURO, MUSCULO},{ADDL_CIR, DIAG_CIR, CATG},{NEURO, MUSCULO, BOTH, NEITHER}, defn=DEF_CNS3, drop_99=True)"
   ]
  },
  {
   "cell_type": "code",
   "execution_count": 6,
   "id": "31a3fc0b-4586-4ee8-aba5-272629ececb6",
   "metadata": {},
   "outputs": [
    {
     "name": "stderr",
     "output_type": "stream",
     "text": [
      "/home/reu24lyme/alex/code_lib/src/lymedata.py:74: DtypeWarning: Columns (224,249,259,269,274,294,299,304,309,339,344,365,369,373,377,395,399,403,411,415,419,423,435) have mixed types. Specify dtype option on import or set low_memory=False.\n",
      "  df = pd.read_csv(csv_file)\n"
     ]
    },
    {
     "name": "stdout",
     "output_type": "stream",
     "text": [
      "Both Neuro and Mus: 2227\n",
      "Only Neuro: 248\n",
      "Only Mus: 794\n",
      "Neither Neuro nor Mus: 694\n",
      "Dropping 99\n"
     ]
    }
   ],
   "source": [
    "data = LymeData({CHRONIC, NEURO, MUSCULO},{ADDL_CIR, DIAG_CIR, CATG},{NEURO, MUSCULO, BOTH, NEITHER}, defn=DEF_PNS1, drop_99=True)"
   ]
  },
  {
   "cell_type": "code",
   "execution_count": 7,
   "id": "c71298f6-b35c-41a4-89bc-ba418ef9a3da",
   "metadata": {},
   "outputs": [
    {
     "name": "stderr",
     "output_type": "stream",
     "text": [
      "/home/reu24lyme/alex/code_lib/src/lymedata.py:74: DtypeWarning: Columns (224,249,259,269,274,294,299,304,309,339,344,365,369,373,377,395,399,403,411,415,419,423,435) have mixed types. Specify dtype option on import or set low_memory=False.\n",
      "  df = pd.read_csv(csv_file)\n"
     ]
    },
    {
     "name": "stdout",
     "output_type": "stream",
     "text": [
      "Both Neuro and Mus: 1898\n",
      "Only Neuro: 577\n",
      "Only Mus: 794\n",
      "Neither Neuro nor Mus: 694\n",
      "Dropping 99\n"
     ]
    }
   ],
   "source": [
    "data = LymeData({CHRONIC, NEURO, MUSCULO},{ADDL_CIR, DIAG_CIR, CATG},{NEURO, MUSCULO, BOTH, NEITHER}, defn=DEF_PNS2, drop_99=True)"
   ]
  },
  {
   "cell_type": "code",
   "execution_count": 8,
   "id": "9749babf-c791-4f49-9eec-608bd2ef4aad",
   "metadata": {},
   "outputs": [
    {
     "name": "stderr",
     "output_type": "stream",
     "text": [
      "/home/reu24lyme/alex/code_lib/src/lymedata.py:74: DtypeWarning: Columns (224,249,259,269,274,294,299,304,309,339,344,365,369,373,377,395,399,403,411,415,419,423,435) have mixed types. Specify dtype option on import or set low_memory=False.\n",
      "  df = pd.read_csv(csv_file)\n"
     ]
    },
    {
     "name": "stdout",
     "output_type": "stream",
     "text": [
      "Both Neuro and Mus: 1898\n",
      "Only Neuro: 577\n",
      "Only Mus: 492\n",
      "Neither Neuro nor Mus: 996\n",
      "Dropping 99\n"
     ]
    }
   ],
   "source": [
    "data = LymeData({CHRONIC, NEURO, MUSCULO},{ADDL_CIR, DIAG_CIR, CATG},{NEURO, MUSCULO, BOTH, NEITHER}, defn=DEF_PNS3, drop_99=True)"
   ]
  },
  {
   "cell_type": "code",
   "execution_count": null,
   "id": "f3c4a4db-992b-4c6b-af1a-caf88180b6bd",
   "metadata": {},
   "outputs": [],
   "source": []
  }
 ],
 "metadata": {
  "kernelspec": {
   "display_name": "Python 3 (ipykernel)",
   "language": "python",
   "name": "python3"
  },
  "language_info": {
   "codemirror_mode": {
    "name": "ipython",
    "version": 3
   },
   "file_extension": ".py",
   "mimetype": "text/x-python",
   "name": "python",
   "nbconvert_exporter": "python",
   "pygments_lexer": "ipython3",
   "version": "3.12.3"
  }
 },
 "nbformat": 4,
 "nbformat_minor": 5
}
