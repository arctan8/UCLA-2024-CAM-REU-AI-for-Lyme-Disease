{
 "cells": [
  {
   "cell_type": "code",
   "execution_count": 1,
   "id": "275b2bf7-e2e6-46d7-b1a6-2250ec6668c4",
   "metadata": {},
   "outputs": [],
   "source": [
    "%run ../../import_src.py\n",
    "\n",
    "import lymedata\n",
    "from lymedata import *\n",
    "import constants\n",
    "from constants import *\n",
    "\n",
    "import needell_ssnmf\n",
    "from needell_ssnmf import Needell_SSNMF\n",
    "\n",
    "import display_ssnmf\n",
    "from display_ssnmf import *"
   ]
  },
  {
   "cell_type": "code",
   "execution_count": 2,
   "id": "160cf56e-e788-47f4-9829-86c7480425ad",
   "metadata": {},
   "outputs": [
    {
     "name": "stdout",
     "output_type": "stream",
     "text": [
      "[1149 1143  142 ... 1228 2160 1454]\n"
     ]
    },
    {
     "ename": "KeyboardInterrupt",
     "evalue": "",
     "output_type": "error",
     "traceback": [
      "\u001b[0;31m---------------------------------------------------------------------------\u001b[0m",
      "\u001b[0;31mKeyboardInterrupt\u001b[0m                         Traceback (most recent call last)",
      "Cell \u001b[0;32mIn[2], line 9\u001b[0m\n\u001b[1;32m      7\u001b[0m \u001b[38;5;28mprint\u001b[39m(train_indices)\n\u001b[1;32m      8\u001b[0m ssnmf \u001b[38;5;241m=\u001b[39m Needell_SSNMF(X,Y, split_train_test\u001b[38;5;241m=\u001b[39m\u001b[38;5;28;01mFalse\u001b[39;00m, train_indices\u001b[38;5;241m=\u001b[39mtrain_indices, test_indices\u001b[38;5;241m=\u001b[39mtest_indices)\n\u001b[0;32m----> 9\u001b[0m train_results, test_results, reconerr_results \u001b[38;5;241m=\u001b[39m ssnmf\u001b[38;5;241m.\u001b[39mfulldatasearch(param_range\u001b[38;5;241m=\u001b[39m{\u001b[38;5;124m'\u001b[39m\u001b[38;5;124mk\u001b[39m\u001b[38;5;124m'\u001b[39m: \u001b[38;5;28mrange\u001b[39m(\u001b[38;5;241m2\u001b[39m,\u001b[38;5;241m36\u001b[39m),\u001b[38;5;124m'\u001b[39m\u001b[38;5;124mlambda\u001b[39m\u001b[38;5;124m'\u001b[39m: np\u001b[38;5;241m.\u001b[39mlinspace(\u001b[38;5;241m0\u001b[39m,\u001b[38;5;241m1\u001b[39m,\u001b[38;5;241m10\u001b[39m), \u001b[38;5;124m'\u001b[39m\u001b[38;5;124mrandom_state\u001b[39m\u001b[38;5;124m'\u001b[39m: \u001b[38;5;28mrange\u001b[39m(\u001b[38;5;241m0\u001b[39m,\u001b[38;5;241m10\u001b[39m)},\n\u001b[1;32m     10\u001b[0m                                                           get_topic_accu_distr\u001b[38;5;241m=\u001b[39m\u001b[38;5;28;01mTrue\u001b[39;00m, get_reconerr_distr\u001b[38;5;241m=\u001b[39m\u001b[38;5;28;01mTrue\u001b[39;00m)\n",
      "File \u001b[0;32m~/alex/code_lib/src/ssnmf_abstract_classes.py:215\u001b[0m, in \u001b[0;36mSSNMF_Application.fulldatasearch\u001b[0;34m(self, **kwargs)\u001b[0m\n\u001b[1;32m    211\u001b[0m partial_func \u001b[38;5;241m=\u001b[39m partial(\u001b[38;5;28mself\u001b[39m\u001b[38;5;241m.\u001b[39mfulldata_validate,\u001b[38;5;241m*\u001b[39m\u001b[38;5;241m*\u001b[39mkwargs) \n\u001b[1;32m    213\u001b[0m \u001b[38;5;28;01mwith\u001b[39;00m Pool(num_cores) \u001b[38;5;28;01mas\u001b[39;00m pool:\n\u001b[1;32m    214\u001b[0m     \u001b[38;5;66;03m# pool.map returns a long list of tuples (accuracy_score, {param: vals}, X_reconerr, Y_reconerr, test_accuracy_score)\u001b[39;00m\n\u001b[0;32m--> 215\u001b[0m     results \u001b[38;5;241m=\u001b[39m pool\u001b[38;5;241m.\u001b[39mmap(partial_func, param_keys_and_comb)    \n\u001b[1;32m    217\u001b[0m     best_train_results \u001b[38;5;241m=\u001b[39m \u001b[38;5;28mmax\u001b[39m(results, key\u001b[38;5;241m=\u001b[39m\u001b[38;5;28;01mlambda\u001b[39;00m x: x[\u001b[38;5;241m0\u001b[39m])\n\u001b[1;32m    218\u001b[0m     best_train_overall \u001b[38;5;241m=\u001b[39m best_train_results[\u001b[38;5;241m0\u001b[39m]\n",
      "File \u001b[0;32m~/miniconda3/lib/python3.12/multiprocessing/pool.py:367\u001b[0m, in \u001b[0;36mPool.map\u001b[0;34m(self, func, iterable, chunksize)\u001b[0m\n\u001b[1;32m    362\u001b[0m \u001b[38;5;28;01mdef\u001b[39;00m \u001b[38;5;21mmap\u001b[39m(\u001b[38;5;28mself\u001b[39m, func, iterable, chunksize\u001b[38;5;241m=\u001b[39m\u001b[38;5;28;01mNone\u001b[39;00m):\n\u001b[1;32m    363\u001b[0m \u001b[38;5;250m    \u001b[39m\u001b[38;5;124;03m'''\u001b[39;00m\n\u001b[1;32m    364\u001b[0m \u001b[38;5;124;03m    Apply `func` to each element in `iterable`, collecting the results\u001b[39;00m\n\u001b[1;32m    365\u001b[0m \u001b[38;5;124;03m    in a list that is returned.\u001b[39;00m\n\u001b[1;32m    366\u001b[0m \u001b[38;5;124;03m    '''\u001b[39;00m\n\u001b[0;32m--> 367\u001b[0m     \u001b[38;5;28;01mreturn\u001b[39;00m \u001b[38;5;28mself\u001b[39m\u001b[38;5;241m.\u001b[39m_map_async(func, iterable, mapstar, chunksize)\u001b[38;5;241m.\u001b[39mget()\n",
      "File \u001b[0;32m~/miniconda3/lib/python3.12/multiprocessing/pool.py:768\u001b[0m, in \u001b[0;36mApplyResult.get\u001b[0;34m(self, timeout)\u001b[0m\n\u001b[1;32m    767\u001b[0m \u001b[38;5;28;01mdef\u001b[39;00m \u001b[38;5;21mget\u001b[39m(\u001b[38;5;28mself\u001b[39m, timeout\u001b[38;5;241m=\u001b[39m\u001b[38;5;28;01mNone\u001b[39;00m):\n\u001b[0;32m--> 768\u001b[0m     \u001b[38;5;28mself\u001b[39m\u001b[38;5;241m.\u001b[39mwait(timeout)\n\u001b[1;32m    769\u001b[0m     \u001b[38;5;28;01mif\u001b[39;00m \u001b[38;5;129;01mnot\u001b[39;00m \u001b[38;5;28mself\u001b[39m\u001b[38;5;241m.\u001b[39mready():\n\u001b[1;32m    770\u001b[0m         \u001b[38;5;28;01mraise\u001b[39;00m \u001b[38;5;167;01mTimeoutError\u001b[39;00m\n",
      "File \u001b[0;32m~/miniconda3/lib/python3.12/multiprocessing/pool.py:765\u001b[0m, in \u001b[0;36mApplyResult.wait\u001b[0;34m(self, timeout)\u001b[0m\n\u001b[1;32m    764\u001b[0m \u001b[38;5;28;01mdef\u001b[39;00m \u001b[38;5;21mwait\u001b[39m(\u001b[38;5;28mself\u001b[39m, timeout\u001b[38;5;241m=\u001b[39m\u001b[38;5;28;01mNone\u001b[39;00m):\n\u001b[0;32m--> 765\u001b[0m     \u001b[38;5;28mself\u001b[39m\u001b[38;5;241m.\u001b[39m_event\u001b[38;5;241m.\u001b[39mwait(timeout)\n",
      "File \u001b[0;32m~/miniconda3/lib/python3.12/threading.py:655\u001b[0m, in \u001b[0;36mEvent.wait\u001b[0;34m(self, timeout)\u001b[0m\n\u001b[1;32m    653\u001b[0m signaled \u001b[38;5;241m=\u001b[39m \u001b[38;5;28mself\u001b[39m\u001b[38;5;241m.\u001b[39m_flag\n\u001b[1;32m    654\u001b[0m \u001b[38;5;28;01mif\u001b[39;00m \u001b[38;5;129;01mnot\u001b[39;00m signaled:\n\u001b[0;32m--> 655\u001b[0m     signaled \u001b[38;5;241m=\u001b[39m \u001b[38;5;28mself\u001b[39m\u001b[38;5;241m.\u001b[39m_cond\u001b[38;5;241m.\u001b[39mwait(timeout)\n\u001b[1;32m    656\u001b[0m \u001b[38;5;28;01mreturn\u001b[39;00m signaled\n",
      "File \u001b[0;32m~/miniconda3/lib/python3.12/threading.py:355\u001b[0m, in \u001b[0;36mCondition.wait\u001b[0;34m(self, timeout)\u001b[0m\n\u001b[1;32m    353\u001b[0m \u001b[38;5;28;01mtry\u001b[39;00m:    \u001b[38;5;66;03m# restore state no matter what (e.g., KeyboardInterrupt)\u001b[39;00m\n\u001b[1;32m    354\u001b[0m     \u001b[38;5;28;01mif\u001b[39;00m timeout \u001b[38;5;129;01mis\u001b[39;00m \u001b[38;5;28;01mNone\u001b[39;00m:\n\u001b[0;32m--> 355\u001b[0m         waiter\u001b[38;5;241m.\u001b[39macquire()\n\u001b[1;32m    356\u001b[0m         gotit \u001b[38;5;241m=\u001b[39m \u001b[38;5;28;01mTrue\u001b[39;00m\n\u001b[1;32m    357\u001b[0m     \u001b[38;5;28;01melse\u001b[39;00m:\n",
      "\u001b[0;31mKeyboardInterrupt\u001b[0m: "
     ]
    }
   ],
   "source": [
    "data = np.load('dataset2.npz')\n",
    "X = data['X']\n",
    "Y = data['Y']\n",
    "train_indices = data['train_indices']\n",
    "test_indices = data['test_indices']\n",
    "\n",
    "print(train_indices)\n",
    "ssnmf = Needell_SSNMF(X,Y, split_train_test=False, train_indices=train_indices, test_indices=test_indices)\n",
    "train_results, test_results, reconerr_results = ssnmf.fulldatasearch(param_range={'k': range(2,36),'lambda': np.linspace(0,1,10), 'random_state': range(0,10)},\n",
    "                                                          get_topic_accu_distr=True, get_reconerr_distr=True)\n"
   ]
  },
  {
   "cell_type": "code",
   "execution_count": null,
   "id": "234d2704-07ce-49dd-99d1-0b0e4cda62bd",
   "metadata": {},
   "outputs": [],
   "source": [
    "best_train_accu = train_results['best_train_accu']\n",
    "best_train_param = train_results['best_train_param']\n",
    "train_accu_distr = train_results['train_accu_distr']\n",
    "\n",
    "best_test_accu = test_results['best_test_accu']\n",
    "best_test_param = test_results['best_test_param']\n",
    "test_accu_distr = test_results['test_accu_distr']\n",
    "\n",
    "print('Best train: ', best_train_accu)\n",
    "print('Best test: ', best_test_accu)\n",
    "\n",
    "display_distr(train_accu_distr, ylabel='Train Accuracy')\n",
    "display_distr(test_accu_distr, ylabel='Test Accuracy')\n",
    "\n",
    "Xreconerr_distr = reconerr_results['Xreconerr_distr']\n",
    "Yreconerr_distr = reconerr_results['Yreconerr_distr']\n",
    "\n",
    "display_distr(Xreconerr_distr, ylabel='||X-AS|| reconerrs')\n",
    "display_distr(Yreconerr_distr, ylabel='||Y-BS|| reconerrs')\n",
    "\n",
    "names = 'Labels'\n",
    "labels = list(range(0, X.shape[1]))\n",
    "best_model = ssnmf.get_best_fulldata_model()\n",
    "display_ssnmf(model=best_model, feature_name=names, feature_labels=labels, class_labels={'Label 0','Label 1'}) "
   ]
  },
  {
   "cell_type": "code",
   "execution_count": null,
   "id": "b93db272-0799-43a2-aa50-a6c48bf84adf",
   "metadata": {},
   "outputs": [],
   "source": [
    "# Accuracy distribution statistics\n",
    "mean = train_accu_distr.mean()\n",
    "Q1 = train_accu_distr.quantile(0.25)\n",
    "Q3 = train_accu_distr.quantile(0.75)\n",
    "print('Mean Training Accuracy:')\n",
    "print(mean)\n",
    "print('IQR:')\n",
    "print(Q3 - Q1)\n",
    "\n",
    "mean = test_accu_distr.mean()\n",
    "Q1 = test_accu_distr.quantile(0.25)\n",
    "Q3 = test_accu_distr.quantile(0.75)\n",
    "print('Mean Testing Accuracy:')\n",
    "print(mean)\n",
    "print('IQR:')\n",
    "print(Q3 - Q1)"
   ]
  },
  {
   "cell_type": "code",
   "execution_count": null,
   "id": "00573041-4cb6-43b6-a067-754f5f5ce71c",
   "metadata": {},
   "outputs": [],
   "source": []
  }
 ],
 "metadata": {
  "kernelspec": {
   "display_name": "Python 3 (ipykernel)",
   "language": "python",
   "name": "python3"
  },
  "language_info": {
   "codemirror_mode": {
    "name": "ipython",
    "version": 3
   },
   "file_extension": ".py",
   "mimetype": "text/x-python",
   "name": "python",
   "nbconvert_exporter": "python",
   "pygments_lexer": "ipython3",
   "version": "3.12.3"
  }
 },
 "nbformat": 4,
 "nbformat_minor": 5
}
